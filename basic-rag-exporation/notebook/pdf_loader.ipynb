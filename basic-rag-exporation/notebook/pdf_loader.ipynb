{
 "cells": [
  {
   "cell_type": "code",
   "execution_count": 24,
   "id": "4a904354",
   "metadata": {},
   "outputs": [],
   "source": [
    "from langchain_core.documents import Document\n",
    "from langchain.document_loaders import PyPDFLoader, DirectoryLoader, PyMuPDFLoader\n",
    "from langchain.text_splitter import RecursiveCharacterTextSplitter"
   ]
  },
  {
   "cell_type": "code",
   "execution_count": 25,
   "id": "113b2261",
   "metadata": {},
   "outputs": [
    {
     "data": {
      "text/plain": [
       "[Document(metadata={'producer': 'pdfTeX-1.40.26', 'creator': 'LaTeX with hyperref', 'creationdate': '2025-08-12T09:48:22+00:00', 'source': '../data/pdf_files/ShrivatsaSaankhya_Env_Resume.pdf', 'file_path': '../data/pdf_files/ShrivatsaSaankhya_Env_Resume.pdf', 'total_pages': 1, 'format': 'PDF 1.5', 'title': '', 'author': '', 'subject': '', 'keywords': '', 'moddate': '2025-08-12T09:48:22+00:00', 'trapped': '', 'modDate': 'D:20250812094822Z', 'creationDate': 'D:20250812094822Z', 'page': 0}, page_content='Saankhya Shrivatsa\\n+1 (619) 415-3843 | shrivatsaankhya.bus@gmail.com | linkedin.com/in/saankhya-shrivatsa |\\nEducation\\nUniversity of California San Diego\\nSan Diego, CA\\nBachelor of Science in Global Health; Minor in Computational Social Sciences\\nSept. 2022 – December 2025\\nInventure Academy\\nBangalore, India\\nHigh School Diploma; 5 CAIE AS/A Levels including Physics, Chemistry, Math, and Biology\\nMay 2020 – June 2022\\nExperience\\nResearch Assistant – Climate Epidemiology\\nJune 2024 – Present\\nCARE Lab; Herbert Wertheim School of Public Health\\nSan Diego, CA\\n• Lead researcher on a global systematic literature review assessing integration of disability justice into climate action,\\nmitigation, and adaptation plans; developing a redefined disability framework through a climate change lens and adapting\\nUN CRPD principles for climate policy contexts\\n• Collaborating with the Ministry of Health in Jordan to investigate associations between extreme weather events, climate\\nchange, and diarrheal disease incidence\\n• Conduct environmental and epidemiological data collection, management, and statistical analysis using Excel and other tools;\\nsynthesize findings into technical reports for publication\\n• Coordinate multi-institutional project teams, ensuring adherence to timelines, research protocols, and safety standards.\\nResearch Assistant – Molecular Genetics in Hepatology\\nOct. 2023 – June 2024\\nOlefsky Lab, UC San Diego School of Medicine\\nSan Diego, CA\\n• Conducted experimental analysis to evaluate genetic factors influencing liver disease, applying quantitative methods\\ncomparable to toxicological dose–response assessments\\n• Executed RNA extraction, genotyping, PCR, and qPCR to measure expression differences in TM7 gene variants, identifying\\npotential biomarkers for early disease detection\\n• Documented laboratory protocols and analytical results in compliance with institutional quality assurance standards,\\nsupporting reproducibility and regulatory review readiness.\\nSelected Projects\\nBangladesh Flood Adaptation Study – Independent Researcher: Designed a mixed-methods study, including a\\nrandomized experiment, to evaluate disability-inclusive policies in Bangladesh’s national adaptation plan and their impact on\\ndisaster relief outcomes for people with disabilities\\nDisability incidence and PM2.5 trends – Independent Researcher: Created an online reserve of maps tracking trends in\\nspread of PM2.5 following wildfires and analyzed trends in related ER admission data\\nTechnical Skills\\nField & Environmental Data Skills: Environmental data collection, literature screening, systematic review methodology,\\nsoil/water sampling (academic projects), hazard recognition principles\\nAnalysis & Reporting: Microsoft Excel, technical report writing, data management, statistical analysis\\nPublic Health Methods: Sampling design, population health assessment, health communication strategies\\nLeadership and Involvement\\nVice President- Internal\\nMay 2024 – Present\\nSociety for Immigrant and Refugee Health (UCSDSIRH)\\nSan Diego, CA\\n• Lead conversations on immigrant and refugee health through targeted clinic drives, tutoring, and other forms of community\\ninvolvement\\n• Head of the Newsletter Committee aimed at delivering information about the club’s past and future events with spotlight\\npieces on pertinent immigrant/refugee health topics\\n• Launched the organization’s first ever guest speaker series, inviting UCSD faculty and experts to discuss critical healthcare\\ndisparities in immigrant and refugee health\\n• Represent UCSD at immigrant/refugee health conferences and work with renowned experts in the field on awareness events\\nGeneral Health Cohort Lead\\nApril 2024 – Present\\nStudent Health Advocates (SHA)\\nSan Diego, CA\\n• Contribute to the promotion of student health through comprehensive health assessments, identifying key areas for\\nimprovement within the campus community\\n• Facilitate educational workshops and create media content on essential health topics, including nutrition, healthy meal\\nplanning, and stress management, aimed at fostering healthier lifestyle choices among students\\n• Organize and lead general health awareness campaigns, engaging the student body in preventative health strategies and\\npromoting a culture of wellness on campus'),\n",
       " Document(metadata={'producer': 'pdfTeX-1.40.26', 'creator': 'LaTeX with hyperref', 'creationdate': '2025-09-17T23:16:25+00:00', 'source': '../data/pdf_files/Resume_Shree_G.pdf', 'file_path': '../data/pdf_files/Resume_Shree_G.pdf', 'total_pages': 1, 'format': 'PDF 1.5', 'title': '', 'author': '', 'subject': '', 'keywords': '', 'moddate': '2025-09-17T23:16:25+00:00', 'trapped': '', 'modDate': 'D:20250917231625Z', 'creationDate': 'D:20250917231625Z', 'page': 0}, page_content='Shree Gopalakrishnan\\n858-761-2827 | shree.hridai@gmail.com | Linkedin: shree-gk W | Github: Shree-G W\\nFull Stack Engineer with a track record of taking products from idea to production. My experience ranges from building an\\naward-winning IoT hardware MVP to deploying a scalable, full-stack AI analytics platform that boosted sales conversion.\\nCurrently looking to join a company where I can apply my AI and full stack expertise to build end-to-end systems that\\nsolve complex challenges and ship features that actually help people.\\nTechnical Skills\\nLanguages & Frameworks: JavaScript (ES6+), TypeScript, Python, SQL, React.js, Next.js, FastAPI, Node.js, Prisma\\nFrontend Tools: Tailwind CSS, ShadCN, Styled Components, HTML, Framer Motion, D3\\nBackend & Data: Google BigQuery, PostgreSQL, Redis, RESTful API, ETL / ETL Processes, Docker, Websockets\\nAI/Data Science: Scikit-learn, Pandas, NumPy, K-Means Clustering, OpenAI API, Hugging Face\\nCloud & DevOps: GCP (Cloud Functions, Cloud Run), AWS (S3, Lambda), Vercel, GitHub Actions, Neon\\nOther Tools: Git, Looker Studio, Playwright, Agile Development, Full-Stack Architecture\\nExperience\\nFull Stack Engineer\\nJuly 2025 – Present\\niFrog Marketing Solutions W\\n• Built a scalable data pipeline to process 200,000+ dealer records from a third-party API into Google BigQuery.\\n• Designed a full stack AI dashboard to provide real-time customer segmentation and lead scoring for 67 dealerships.\\n• Launched the platform to all dealership stakeholders, resulting in a 15% increase in ad sales conversion rates.\\nSoftware Engineering Intern\\nMay 2024 – Aug 2024\\nMercury Alert AI W\\n• Improved user dashboard load times by 40% for 300+ devices by optimizing patient-safety analytics functions.\\n• Architected 15+ relational schemas and refactored 10+ front end components for NoSQL to PostgreSQL migration.\\nMachine Learning Intern\\nJun 2024 – Oct 2024\\nServiceMob W\\n• Built a weekly call volume forecaster, achieving 9% MAPE to improve staffing decisions for 500+ support agents.\\n• Deployed forecasting API inside consumer-side web app accessed real-time by 5+ call-center agencies.\\nMachine Learning Intern\\nJun 2022 – Aug 2022\\nPoint Perfect Technology Solutions W\\n• Built a KNN-based resume classifier, that classified over 450+ resumes (and counting!) into best-fit jobs.\\n• Deployed the classifier as a REST API and integrated it with an internal HR tool to cut time-to-hire by 30%.\\nProjects\\nShrocial Media W | Next.js, Node.js, App Router, TypeScript, PostgreSQL, Prisma, Tailwind CSS, ShadCN, Neon, Clerk\\n• Developed a full-stack social app using Next.js with server-side rendering and 15+ dynamic/static routes.\\n• Integrated Neon Database with PostgreSQL and Prisma ORM, creating 10+ route handlers for API responses.\\n• Designed a responsive UI with Tailwind CSS for consistent styling and dynamic layouts for 4 screen sizes.\\nRestaurant Ordering System W | Full Stack Development, IoT, Real-Time Systems, MVP development\\n• Built a web-based order accuracy system using Raspberry Pi, reducing simulated errors by 35% in restaurants.\\n• Designed and fabricated a 3D-modeled wooden enclosure to house a touchscreen, battery, and Raspberry Pi.\\n• Implemented real-time tracking to process 10+ concurrent orders with <1s latency and haptic feedback.\\n• Won 2nd place among 20+ teams in UCSD’s MVP competition for technical innovation and hands-on engineering.\\nEducation\\nUniversity of California, San Diego\\nSep 2021 – Jun 2025\\nB.S. in Computer Science\\n• Relevant Coursework: Advanced Data Structures in Java, Design and Analysis of Algorithms, Deep Learning')]"
      ]
     },
     "execution_count": 25,
     "metadata": {},
     "output_type": "execute_result"
    }
   ],
   "source": [
    "dir_loader = DirectoryLoader(\"../data/pdf_files\", glob=\"*.pdf\", loader_cls=PyMuPDFLoader)\n",
    "documents = dir_loader.load()\n",
    "documents"
   ]
  },
  {
   "cell_type": "code",
   "execution_count": 26,
   "id": "90a40e65",
   "metadata": {},
   "outputs": [
    {
     "data": {
      "text/plain": [
       "[Document(metadata={'producer': 'pdfTeX-1.40.26', 'creator': 'LaTeX with hyperref', 'creationdate': '2025-08-12T09:48:22+00:00', 'source': '../data/pdf_files/ShrivatsaSaankhya_Env_Resume.pdf', 'file_path': '../data/pdf_files/ShrivatsaSaankhya_Env_Resume.pdf', 'total_pages': 1, 'format': 'PDF 1.5', 'title': '', 'author': '', 'subject': '', 'keywords': '', 'moddate': '2025-08-12T09:48:22+00:00', 'trapped': '', 'modDate': 'D:20250812094822Z', 'creationDate': 'D:20250812094822Z', 'page': 0}, page_content='Saankhya Shrivatsa\\n+1 (619) 415-3843 | shrivatsaankhya.bus@gmail.com | linkedin.com/in/saankhya-shrivatsa |\\nEducation\\nUniversity of California San Diego\\nSan Diego, CA\\nBachelor of Science in Global Health; Minor in Computational Social Sciences\\nSept. 2022 – December 2025\\nInventure Academy\\nBangalore, India\\nHigh School Diploma; 5 CAIE AS/A Levels including Physics, Chemistry, Math, and Biology\\nMay 2020 – June 2022\\nExperience\\nResearch Assistant – Climate Epidemiology\\nJune 2024 – Present'),\n",
       " Document(metadata={'producer': 'pdfTeX-1.40.26', 'creator': 'LaTeX with hyperref', 'creationdate': '2025-08-12T09:48:22+00:00', 'source': '../data/pdf_files/ShrivatsaSaankhya_Env_Resume.pdf', 'file_path': '../data/pdf_files/ShrivatsaSaankhya_Env_Resume.pdf', 'total_pages': 1, 'format': 'PDF 1.5', 'title': '', 'author': '', 'subject': '', 'keywords': '', 'moddate': '2025-08-12T09:48:22+00:00', 'trapped': '', 'modDate': 'D:20250812094822Z', 'creationDate': 'D:20250812094822Z', 'page': 0}, page_content='June 2024 – Present\\nCARE Lab; Herbert Wertheim School of Public Health\\nSan Diego, CA\\n• Lead researcher on a global systematic literature review assessing integration of disability justice into climate action,\\nmitigation, and adaptation plans; developing a redefined disability framework through a climate change lens and adapting\\nUN CRPD principles for climate policy contexts\\n• Collaborating with the Ministry of Health in Jordan to investigate associations between extreme weather events, climate'),\n",
       " Document(metadata={'producer': 'pdfTeX-1.40.26', 'creator': 'LaTeX with hyperref', 'creationdate': '2025-08-12T09:48:22+00:00', 'source': '../data/pdf_files/ShrivatsaSaankhya_Env_Resume.pdf', 'file_path': '../data/pdf_files/ShrivatsaSaankhya_Env_Resume.pdf', 'total_pages': 1, 'format': 'PDF 1.5', 'title': '', 'author': '', 'subject': '', 'keywords': '', 'moddate': '2025-08-12T09:48:22+00:00', 'trapped': '', 'modDate': 'D:20250812094822Z', 'creationDate': 'D:20250812094822Z', 'page': 0}, page_content='change, and diarrheal disease incidence\\n• Conduct environmental and epidemiological data collection, management, and statistical analysis using Excel and other tools;\\nsynthesize findings into technical reports for publication\\n• Coordinate multi-institutional project teams, ensuring adherence to timelines, research protocols, and safety standards.\\nResearch Assistant – Molecular Genetics in Hepatology\\nOct. 2023 – June 2024\\nOlefsky Lab, UC San Diego School of Medicine\\nSan Diego, CA'),\n",
       " Document(metadata={'producer': 'pdfTeX-1.40.26', 'creator': 'LaTeX with hyperref', 'creationdate': '2025-08-12T09:48:22+00:00', 'source': '../data/pdf_files/ShrivatsaSaankhya_Env_Resume.pdf', 'file_path': '../data/pdf_files/ShrivatsaSaankhya_Env_Resume.pdf', 'total_pages': 1, 'format': 'PDF 1.5', 'title': '', 'author': '', 'subject': '', 'keywords': '', 'moddate': '2025-08-12T09:48:22+00:00', 'trapped': '', 'modDate': 'D:20250812094822Z', 'creationDate': 'D:20250812094822Z', 'page': 0}, page_content='San Diego, CA\\n• Conducted experimental analysis to evaluate genetic factors influencing liver disease, applying quantitative methods\\ncomparable to toxicological dose–response assessments\\n• Executed RNA extraction, genotyping, PCR, and qPCR to measure expression differences in TM7 gene variants, identifying\\npotential biomarkers for early disease detection\\n• Documented laboratory protocols and analytical results in compliance with institutional quality assurance standards,'),\n",
       " Document(metadata={'producer': 'pdfTeX-1.40.26', 'creator': 'LaTeX with hyperref', 'creationdate': '2025-08-12T09:48:22+00:00', 'source': '../data/pdf_files/ShrivatsaSaankhya_Env_Resume.pdf', 'file_path': '../data/pdf_files/ShrivatsaSaankhya_Env_Resume.pdf', 'total_pages': 1, 'format': 'PDF 1.5', 'title': '', 'author': '', 'subject': '', 'keywords': '', 'moddate': '2025-08-12T09:48:22+00:00', 'trapped': '', 'modDate': 'D:20250812094822Z', 'creationDate': 'D:20250812094822Z', 'page': 0}, page_content='supporting reproducibility and regulatory review readiness.\\nSelected Projects\\nBangladesh Flood Adaptation Study – Independent Researcher: Designed a mixed-methods study, including a\\nrandomized experiment, to evaluate disability-inclusive policies in Bangladesh’s national adaptation plan and their impact on\\ndisaster relief outcomes for people with disabilities\\nDisability incidence and PM2.5 trends – Independent Researcher: Created an online reserve of maps tracking trends in'),\n",
       " Document(metadata={'producer': 'pdfTeX-1.40.26', 'creator': 'LaTeX with hyperref', 'creationdate': '2025-08-12T09:48:22+00:00', 'source': '../data/pdf_files/ShrivatsaSaankhya_Env_Resume.pdf', 'file_path': '../data/pdf_files/ShrivatsaSaankhya_Env_Resume.pdf', 'total_pages': 1, 'format': 'PDF 1.5', 'title': '', 'author': '', 'subject': '', 'keywords': '', 'moddate': '2025-08-12T09:48:22+00:00', 'trapped': '', 'modDate': 'D:20250812094822Z', 'creationDate': 'D:20250812094822Z', 'page': 0}, page_content='spread of PM2.5 following wildfires and analyzed trends in related ER admission data\\nTechnical Skills\\nField & Environmental Data Skills: Environmental data collection, literature screening, systematic review methodology,\\nsoil/water sampling (academic projects), hazard recognition principles\\nAnalysis & Reporting: Microsoft Excel, technical report writing, data management, statistical analysis\\nPublic Health Methods: Sampling design, population health assessment, health communication strategies'),\n",
       " Document(metadata={'producer': 'pdfTeX-1.40.26', 'creator': 'LaTeX with hyperref', 'creationdate': '2025-08-12T09:48:22+00:00', 'source': '../data/pdf_files/ShrivatsaSaankhya_Env_Resume.pdf', 'file_path': '../data/pdf_files/ShrivatsaSaankhya_Env_Resume.pdf', 'total_pages': 1, 'format': 'PDF 1.5', 'title': '', 'author': '', 'subject': '', 'keywords': '', 'moddate': '2025-08-12T09:48:22+00:00', 'trapped': '', 'modDate': 'D:20250812094822Z', 'creationDate': 'D:20250812094822Z', 'page': 0}, page_content='Leadership and Involvement\\nVice President- Internal\\nMay 2024 – Present\\nSociety for Immigrant and Refugee Health (UCSDSIRH)\\nSan Diego, CA\\n• Lead conversations on immigrant and refugee health through targeted clinic drives, tutoring, and other forms of community\\ninvolvement\\n• Head of the Newsletter Committee aimed at delivering information about the club’s past and future events with spotlight\\npieces on pertinent immigrant/refugee health topics'),\n",
       " Document(metadata={'producer': 'pdfTeX-1.40.26', 'creator': 'LaTeX with hyperref', 'creationdate': '2025-08-12T09:48:22+00:00', 'source': '../data/pdf_files/ShrivatsaSaankhya_Env_Resume.pdf', 'file_path': '../data/pdf_files/ShrivatsaSaankhya_Env_Resume.pdf', 'total_pages': 1, 'format': 'PDF 1.5', 'title': '', 'author': '', 'subject': '', 'keywords': '', 'moddate': '2025-08-12T09:48:22+00:00', 'trapped': '', 'modDate': 'D:20250812094822Z', 'creationDate': 'D:20250812094822Z', 'page': 0}, page_content='• Launched the organization’s first ever guest speaker series, inviting UCSD faculty and experts to discuss critical healthcare\\ndisparities in immigrant and refugee health\\n• Represent UCSD at immigrant/refugee health conferences and work with renowned experts in the field on awareness events\\nGeneral Health Cohort Lead\\nApril 2024 – Present\\nStudent Health Advocates (SHA)\\nSan Diego, CA'),\n",
       " Document(metadata={'producer': 'pdfTeX-1.40.26', 'creator': 'LaTeX with hyperref', 'creationdate': '2025-08-12T09:48:22+00:00', 'source': '../data/pdf_files/ShrivatsaSaankhya_Env_Resume.pdf', 'file_path': '../data/pdf_files/ShrivatsaSaankhya_Env_Resume.pdf', 'total_pages': 1, 'format': 'PDF 1.5', 'title': '', 'author': '', 'subject': '', 'keywords': '', 'moddate': '2025-08-12T09:48:22+00:00', 'trapped': '', 'modDate': 'D:20250812094822Z', 'creationDate': 'D:20250812094822Z', 'page': 0}, page_content='Student Health Advocates (SHA)\\nSan Diego, CA\\n• Contribute to the promotion of student health through comprehensive health assessments, identifying key areas for\\nimprovement within the campus community\\n• Facilitate educational workshops and create media content on essential health topics, including nutrition, healthy meal\\nplanning, and stress management, aimed at fostering healthier lifestyle choices among students'),\n",
       " Document(metadata={'producer': 'pdfTeX-1.40.26', 'creator': 'LaTeX with hyperref', 'creationdate': '2025-08-12T09:48:22+00:00', 'source': '../data/pdf_files/ShrivatsaSaankhya_Env_Resume.pdf', 'file_path': '../data/pdf_files/ShrivatsaSaankhya_Env_Resume.pdf', 'total_pages': 1, 'format': 'PDF 1.5', 'title': '', 'author': '', 'subject': '', 'keywords': '', 'moddate': '2025-08-12T09:48:22+00:00', 'trapped': '', 'modDate': 'D:20250812094822Z', 'creationDate': 'D:20250812094822Z', 'page': 0}, page_content='• Organize and lead general health awareness campaigns, engaging the student body in preventative health strategies and\\npromoting a culture of wellness on campus'),\n",
       " Document(metadata={'producer': 'pdfTeX-1.40.26', 'creator': 'LaTeX with hyperref', 'creationdate': '2025-09-17T23:16:25+00:00', 'source': '../data/pdf_files/Resume_Shree_G.pdf', 'file_path': '../data/pdf_files/Resume_Shree_G.pdf', 'total_pages': 1, 'format': 'PDF 1.5', 'title': '', 'author': '', 'subject': '', 'keywords': '', 'moddate': '2025-09-17T23:16:25+00:00', 'trapped': '', 'modDate': 'D:20250917231625Z', 'creationDate': 'D:20250917231625Z', 'page': 0}, page_content='Shree Gopalakrishnan\\n858-761-2827 | shree.hridai@gmail.com | Linkedin: shree-gk W | Github: Shree-G W\\nFull Stack Engineer with a track record of taking products from idea to production. My experience ranges from building an\\naward-winning IoT hardware MVP to deploying a scalable, full-stack AI analytics platform that boosted sales conversion.\\nCurrently looking to join a company where I can apply my AI and full stack expertise to build end-to-end systems that'),\n",
       " Document(metadata={'producer': 'pdfTeX-1.40.26', 'creator': 'LaTeX with hyperref', 'creationdate': '2025-09-17T23:16:25+00:00', 'source': '../data/pdf_files/Resume_Shree_G.pdf', 'file_path': '../data/pdf_files/Resume_Shree_G.pdf', 'total_pages': 1, 'format': 'PDF 1.5', 'title': '', 'author': '', 'subject': '', 'keywords': '', 'moddate': '2025-09-17T23:16:25+00:00', 'trapped': '', 'modDate': 'D:20250917231625Z', 'creationDate': 'D:20250917231625Z', 'page': 0}, page_content='solve complex challenges and ship features that actually help people.\\nTechnical Skills\\nLanguages & Frameworks: JavaScript (ES6+), TypeScript, Python, SQL, React.js, Next.js, FastAPI, Node.js, Prisma\\nFrontend Tools: Tailwind CSS, ShadCN, Styled Components, HTML, Framer Motion, D3\\nBackend & Data: Google BigQuery, PostgreSQL, Redis, RESTful API, ETL / ETL Processes, Docker, Websockets\\nAI/Data Science: Scikit-learn, Pandas, NumPy, K-Means Clustering, OpenAI API, Hugging Face'),\n",
       " Document(metadata={'producer': 'pdfTeX-1.40.26', 'creator': 'LaTeX with hyperref', 'creationdate': '2025-09-17T23:16:25+00:00', 'source': '../data/pdf_files/Resume_Shree_G.pdf', 'file_path': '../data/pdf_files/Resume_Shree_G.pdf', 'total_pages': 1, 'format': 'PDF 1.5', 'title': '', 'author': '', 'subject': '', 'keywords': '', 'moddate': '2025-09-17T23:16:25+00:00', 'trapped': '', 'modDate': 'D:20250917231625Z', 'creationDate': 'D:20250917231625Z', 'page': 0}, page_content='Cloud & DevOps: GCP (Cloud Functions, Cloud Run), AWS (S3, Lambda), Vercel, GitHub Actions, Neon\\nOther Tools: Git, Looker Studio, Playwright, Agile Development, Full-Stack Architecture\\nExperience\\nFull Stack Engineer\\nJuly 2025 – Present\\niFrog Marketing Solutions W\\n• Built a scalable data pipeline to process 200,000+ dealer records from a third-party API into Google BigQuery.\\n• Designed a full stack AI dashboard to provide real-time customer segmentation and lead scoring for 67 dealerships.'),\n",
       " Document(metadata={'producer': 'pdfTeX-1.40.26', 'creator': 'LaTeX with hyperref', 'creationdate': '2025-09-17T23:16:25+00:00', 'source': '../data/pdf_files/Resume_Shree_G.pdf', 'file_path': '../data/pdf_files/Resume_Shree_G.pdf', 'total_pages': 1, 'format': 'PDF 1.5', 'title': '', 'author': '', 'subject': '', 'keywords': '', 'moddate': '2025-09-17T23:16:25+00:00', 'trapped': '', 'modDate': 'D:20250917231625Z', 'creationDate': 'D:20250917231625Z', 'page': 0}, page_content='• Launched the platform to all dealership stakeholders, resulting in a 15% increase in ad sales conversion rates.\\nSoftware Engineering Intern\\nMay 2024 – Aug 2024\\nMercury Alert AI W\\n• Improved user dashboard load times by 40% for 300+ devices by optimizing patient-safety analytics functions.\\n• Architected 15+ relational schemas and refactored 10+ front end components for NoSQL to PostgreSQL migration.\\nMachine Learning Intern\\nJun 2024 – Oct 2024\\nServiceMob W'),\n",
       " Document(metadata={'producer': 'pdfTeX-1.40.26', 'creator': 'LaTeX with hyperref', 'creationdate': '2025-09-17T23:16:25+00:00', 'source': '../data/pdf_files/Resume_Shree_G.pdf', 'file_path': '../data/pdf_files/Resume_Shree_G.pdf', 'total_pages': 1, 'format': 'PDF 1.5', 'title': '', 'author': '', 'subject': '', 'keywords': '', 'moddate': '2025-09-17T23:16:25+00:00', 'trapped': '', 'modDate': 'D:20250917231625Z', 'creationDate': 'D:20250917231625Z', 'page': 0}, page_content='Jun 2024 – Oct 2024\\nServiceMob W\\n• Built a weekly call volume forecaster, achieving 9% MAPE to improve staffing decisions for 500+ support agents.\\n• Deployed forecasting API inside consumer-side web app accessed real-time by 5+ call-center agencies.\\nMachine Learning Intern\\nJun 2022 – Aug 2022\\nPoint Perfect Technology Solutions W\\n• Built a KNN-based resume classifier, that classified over 450+ resumes (and counting!) into best-fit jobs.'),\n",
       " Document(metadata={'producer': 'pdfTeX-1.40.26', 'creator': 'LaTeX with hyperref', 'creationdate': '2025-09-17T23:16:25+00:00', 'source': '../data/pdf_files/Resume_Shree_G.pdf', 'file_path': '../data/pdf_files/Resume_Shree_G.pdf', 'total_pages': 1, 'format': 'PDF 1.5', 'title': '', 'author': '', 'subject': '', 'keywords': '', 'moddate': '2025-09-17T23:16:25+00:00', 'trapped': '', 'modDate': 'D:20250917231625Z', 'creationDate': 'D:20250917231625Z', 'page': 0}, page_content='• Deployed the classifier as a REST API and integrated it with an internal HR tool to cut time-to-hire by 30%.\\nProjects\\nShrocial Media W | Next.js, Node.js, App Router, TypeScript, PostgreSQL, Prisma, Tailwind CSS, ShadCN, Neon, Clerk\\n• Developed a full-stack social app using Next.js with server-side rendering and 15+ dynamic/static routes.\\n• Integrated Neon Database with PostgreSQL and Prisma ORM, creating 10+ route handlers for API responses.'),\n",
       " Document(metadata={'producer': 'pdfTeX-1.40.26', 'creator': 'LaTeX with hyperref', 'creationdate': '2025-09-17T23:16:25+00:00', 'source': '../data/pdf_files/Resume_Shree_G.pdf', 'file_path': '../data/pdf_files/Resume_Shree_G.pdf', 'total_pages': 1, 'format': 'PDF 1.5', 'title': '', 'author': '', 'subject': '', 'keywords': '', 'moddate': '2025-09-17T23:16:25+00:00', 'trapped': '', 'modDate': 'D:20250917231625Z', 'creationDate': 'D:20250917231625Z', 'page': 0}, page_content='• Designed a responsive UI with Tailwind CSS for consistent styling and dynamic layouts for 4 screen sizes.\\nRestaurant Ordering System W | Full Stack Development, IoT, Real-Time Systems, MVP development\\n• Built a web-based order accuracy system using Raspberry Pi, reducing simulated errors by 35% in restaurants.\\n• Designed and fabricated a 3D-modeled wooden enclosure to house a touchscreen, battery, and Raspberry Pi.'),\n",
       " Document(metadata={'producer': 'pdfTeX-1.40.26', 'creator': 'LaTeX with hyperref', 'creationdate': '2025-09-17T23:16:25+00:00', 'source': '../data/pdf_files/Resume_Shree_G.pdf', 'file_path': '../data/pdf_files/Resume_Shree_G.pdf', 'total_pages': 1, 'format': 'PDF 1.5', 'title': '', 'author': '', 'subject': '', 'keywords': '', 'moddate': '2025-09-17T23:16:25+00:00', 'trapped': '', 'modDate': 'D:20250917231625Z', 'creationDate': 'D:20250917231625Z', 'page': 0}, page_content='• Implemented real-time tracking to process 10+ concurrent orders with <1s latency and haptic feedback.\\n• Won 2nd place among 20+ teams in UCSD’s MVP competition for technical innovation and hands-on engineering.\\nEducation\\nUniversity of California, San Diego\\nSep 2021 – Jun 2025\\nB.S. in Computer Science\\n• Relevant Coursework: Advanced Data Structures in Java, Design and Analysis of Algorithms, Deep Learning')]"
      ]
     },
     "execution_count": 26,
     "metadata": {},
     "output_type": "execute_result"
    }
   ],
   "source": [
    "# Text Splitting\n",
    "\n",
    "def split_documents(documents, chunk_size=500, chunk_overlap=50):\n",
    "    text_splitter = RecursiveCharacterTextSplitter(\n",
    "        chunk_size=chunk_size,\n",
    "        chunk_overlap=chunk_overlap,\n",
    "        length_function=len,\n",
    "        separators=[\"\\n\\n\", \"\\n\", \" \", \"\"]\n",
    "\n",
    "    )\n",
    "    return text_splitter.split_documents(documents)\n",
    "\n",
    "split_docs = split_documents(documents)\n",
    "split_docs"
   ]
  },
  {
   "cell_type": "code",
   "execution_count": 27,
   "id": "1fe9b04f",
   "metadata": {},
   "outputs": [],
   "source": [
    "import numpy as np\n",
    "import os\n",
    "from sentence_transformers import SentenceTransformer\n",
    "import chromadb\n",
    "from chromadb.config import Settings\n",
    "import uuid\n",
    "from typing import List, Dict, Any, Tuple\n",
    "from sklearn.metrics.pairwise import cosine_similarity"
   ]
  },
  {
   "cell_type": "code",
   "execution_count": 28,
   "id": "0b0e1f23",
   "metadata": {},
   "outputs": [],
   "source": [
    "class EmbeddingManager:\n",
    "    def __init__(self, model_name: str = \"all-MiniLM-L6-v2\"):\n",
    "        self.model_name = model_name\n",
    "        self.model = None\n",
    "        self._load_model() # calls the private method to load the model\n",
    "\n",
    "    def _load_model(self):\n",
    "        try:\n",
    "            self.model = SentenceTransformer(self.model_name)\n",
    "            print(f\"Embedding dimension: {self.model.get_sentence_embedding_dimension()}\")\n",
    "        except Exception as e:\n",
    "            print(f\"Error loading model: {self.model_name}. Error: {e}\")\n",
    "            raise\n",
    "\n",
    "    def generate_embeddings(self, texts : list[str]) -> np.ndarray:\n",
    "        if not self.model:\n",
    "            raise ValueError(\"Model not selected.\")\n",
    "\n",
    "        embeddings = self.model.encode(texts, show_progress_bar=True)\n",
    "        print(f\"shape of embeddings {embeddings.shape}\")\n",
    "        return embeddings"
   ]
  },
  {
   "cell_type": "code",
   "execution_count": 29,
   "id": "80f925be",
   "metadata": {},
   "outputs": [
    {
     "name": "stdout",
     "output_type": "stream",
     "text": [
      "Embedding dimension: 384\n"
     ]
    },
    {
     "data": {
      "text/plain": [
       "<__main__.EmbeddingManager at 0x1401ebcd0>"
      ]
     },
     "execution_count": 29,
     "metadata": {},
     "output_type": "execute_result"
    }
   ],
   "source": [
    "embedding_manager = EmbeddingManager()\n",
    "embedding_manager"
   ]
  },
  {
   "cell_type": "code",
   "execution_count": 38,
   "id": "a8bfeb2e",
   "metadata": {},
   "outputs": [
    {
     "name": "stdout",
     "output_type": "stream",
     "text": [
      "Vector store initialized. Collection: pdf_documents\n",
      "Existing documents in collection: 0\n"
     ]
    },
    {
     "data": {
      "text/plain": [
       "<__main__.VectorStore at 0x13d8809d0>"
      ]
     },
     "execution_count": 38,
     "metadata": {},
     "output_type": "execute_result"
    }
   ],
   "source": [
    "class VectorStore:\n",
    "    \"\"\"Manages document embeddings in a ChromaDB vector store\"\"\"\n",
    "    \n",
    "    def __init__(self, collection_name: str = \"pdf_documents\", persist_directory: str = \"../data/vector_store\"):\n",
    "        \"\"\"\n",
    "        Initialize the vector store\n",
    "        \n",
    "        Args:\n",
    "            collection_name: Name of the ChromaDB collection\n",
    "            persist_directory: Directory to persist the vector store\n",
    "        \"\"\"\n",
    "        self.collection_name = collection_name\n",
    "        self.persist_directory = persist_directory\n",
    "        self.client = None\n",
    "        self.collection = None\n",
    "        self._initialize_store()\n",
    "\n",
    "    def _initialize_store(self):\n",
    "        \"\"\"Initialize ChromaDB client and collection\"\"\"\n",
    "        try:\n",
    "            # Create persistent ChromaDB client\n",
    "            os.makedirs(self.persist_directory, exist_ok=True)\n",
    "            self.client = chromadb.PersistentClient(path=self.persist_directory)\n",
    "            \n",
    "            # Get or create collection\n",
    "            self.collection = self.client.get_or_create_collection(\n",
    "                name=self.collection_name,\n",
    "                metadata={\"description\": \"PDF document embeddings for RAG\"}\n",
    "            )\n",
    "            print(f\"Vector store initialized. Collection: {self.collection_name}\")\n",
    "            print(f\"Existing documents in collection: {self.collection.count()}\")\n",
    "            \n",
    "        except Exception as e:\n",
    "            print(f\"Error initializing vector store: {e}\")\n",
    "            raise\n",
    "\n",
    "    def add_documents(self, documents: List[Any], embeddings: np.ndarray):\n",
    "        \"\"\"\n",
    "        Add documents and their embeddings to the vector store\n",
    "        \n",
    "        Args:\n",
    "            documents: List of LangChain documents\n",
    "            embeddings: Corresponding embeddings for the documents\n",
    "        \"\"\"\n",
    "        if len(documents) != len(embeddings):\n",
    "            raise ValueError(\"Number of documents must match number of embeddings\")\n",
    "        \n",
    "        print(f\"Adding {len(documents)} documents to vector store...\")\n",
    "        \n",
    "        # Prepare data for ChromaDB\n",
    "        ids = []\n",
    "        metadatas = []\n",
    "        documents_text = []\n",
    "        embeddings_list = []\n",
    "        \n",
    "        for i, (doc, embedding) in enumerate(zip(documents, embeddings)):\n",
    "            # Generate unique ID\n",
    "            doc_id = f\"doc_{uuid.uuid4().hex[:8]}_{i}\"\n",
    "            ids.append(doc_id)\n",
    "            \n",
    "            # Prepare metadata\n",
    "            metadata = dict(doc.metadata)\n",
    "            metadata['doc_index'] = i\n",
    "            metadata['content_length'] = len(doc.page_content)\n",
    "            metadatas.append(metadata)\n",
    "            \n",
    "            # Document content\n",
    "            documents_text.append(doc.page_content)\n",
    "            \n",
    "            # Embedding\n",
    "            embeddings_list.append(embedding.tolist())\n",
    "        \n",
    "        # Add to collection\n",
    "        try:\n",
    "            self.collection.add(\n",
    "                ids=ids,\n",
    "                embeddings=embeddings_list,\n",
    "                metadatas=metadatas,\n",
    "                documents=documents_text\n",
    "            )\n",
    "            print(f\"Successfully added {len(documents)} documents to vector store\")\n",
    "            print(f\"Total documents in collection: {self.collection.count()}\")\n",
    "            \n",
    "        except Exception as e:\n",
    "            print(f\"Error adding documents to vector store: {e}\")\n",
    "            raise\n",
    "\n",
    "    def remove_all_documents(self):\n",
    "        self.collection.delete(where={\"doc_index\": {\"$gte\": 0}})\n",
    "\n",
    "vectorstore=VectorStore()\n",
    "vectorstore"
   ]
  },
  {
   "cell_type": "code",
   "execution_count": 39,
   "id": "0b9f6da8",
   "metadata": {},
   "outputs": [],
   "source": [
    "chunks = split_docs"
   ]
  },
  {
   "cell_type": "code",
   "execution_count": 40,
   "id": "dca8b2f1",
   "metadata": {},
   "outputs": [
    {
     "name": "stderr",
     "output_type": "stream",
     "text": [
      "Batches: 100%|██████████| 1/1 [00:00<00:00,  3.80it/s]"
     ]
    },
    {
     "name": "stdout",
     "output_type": "stream",
     "text": [
      "shape of embeddings (18, 384)\n",
      "Adding 18 documents to vector store...\n",
      "Successfully added 18 documents to vector store\n",
      "Total documents in collection: 18\n"
     ]
    },
    {
     "name": "stderr",
     "output_type": "stream",
     "text": [
      "\n"
     ]
    }
   ],
   "source": [
    "## Converting the text to embeddings\n",
    "\n",
    "texts = [chunk.page_content for chunk in chunks]\n",
    "\n",
    "embeddings = embedding_manager.generate_embeddings(texts)\n",
    "vectorstore.add_documents(chunks, embeddings)"
   ]
  },
  {
   "cell_type": "code",
   "execution_count": 41,
   "id": "e0d9a7d2",
   "metadata": {},
   "outputs": [],
   "source": [
    "class RAGRetriever:\n",
    "    \"\"\"Handles query-based retrieval from the vector store\"\"\"\n",
    "    \n",
    "    def __init__(self, vector_store: VectorStore, embedding_manager: EmbeddingManager):\n",
    "        \"\"\"\n",
    "        Initialize the retriever\n",
    "        \n",
    "        Args:\n",
    "            vector_store: Vector store containing document embeddings\n",
    "            embedding_manager: Manager for generating query embeddings\n",
    "        \"\"\"\n",
    "        self.vector_store = vector_store\n",
    "        self.embedding_manager = embedding_manager\n",
    "\n",
    "    def retrieve(self, query: str, top_k: int = 5, score_threshold: float = 0.0) -> List[Dict[str, Any]]:\n",
    "        \"\"\"\n",
    "        Retrieve relevant documents for a query\n",
    "        \n",
    "        Args:\n",
    "            query: The search query\n",
    "            top_k: Number of top results to return\n",
    "            score_threshold: Minimum similarity score threshold\n",
    "            \n",
    "        Returns:\n",
    "            List of dictionaries containing retrieved documents and metadata\n",
    "        \"\"\"\n",
    "        print(f\"Retrieving documents for query: '{query}'\")\n",
    "        print(f\"Top K: {top_k}, Score threshold: {score_threshold}\")\n",
    "        \n",
    "        # Generate query embedding\n",
    "        query_embedding = self.embedding_manager.generate_embeddings([query])[0]\n",
    "        \n",
    "        # Search in vector store\n",
    "        try:\n",
    "            results = self.vector_store.collection.query(\n",
    "                query_embeddings=[query_embedding.tolist()],\n",
    "                n_results=top_k\n",
    "            )\n",
    "            \n",
    "            # Process results\n",
    "            retrieved_docs = []\n",
    "            \n",
    "            if results['documents'] and results['documents'][0]:\n",
    "                documents = results['documents'][0]\n",
    "                metadatas = results['metadatas'][0]\n",
    "                distances = results['distances'][0]\n",
    "                ids = results['ids'][0]\n",
    "                \n",
    "                for i, (doc_id, document, metadata, distance) in enumerate(zip(ids, documents, metadatas, distances)):\n",
    "                    # Convert distance to similarity score (ChromaDB uses cosine distance)\n",
    "                    similarity_score = 1 - distance\n",
    "                    \n",
    "                    if similarity_score >= score_threshold:\n",
    "                        retrieved_docs.append({\n",
    "                            'id': doc_id,\n",
    "                            'content': document,\n",
    "                            'metadata': metadata,\n",
    "                            'similarity_score': similarity_score,\n",
    "                            'distance': distance,\n",
    "                            'rank': i + 1\n",
    "                        })\n",
    "                \n",
    "                print(f\"Retrieved {len(retrieved_docs)} documents (after filtering)\")\n",
    "            else:\n",
    "                print(\"No documents found\")\n",
    "            \n",
    "            return retrieved_docs\n",
    "            \n",
    "        except Exception as e:\n",
    "            print(f\"Error during retrieval: {e}\")\n",
    "            return []\n",
    "\n",
    "rag_retriever=RAGRetriever(vectorstore,embedding_manager)"
   ]
  },
  {
   "cell_type": "code",
   "execution_count": null,
   "id": "1154d8e7",
   "metadata": {},
   "outputs": [],
   "source": []
  }
 ],
 "metadata": {
  "kernelspec": {
   "display_name": "Python 3",
   "language": "python",
   "name": "python3"
  },
  "language_info": {
   "codemirror_mode": {
    "name": "ipython",
    "version": 3
   },
   "file_extension": ".py",
   "mimetype": "text/x-python",
   "name": "python",
   "nbconvert_exporter": "python",
   "pygments_lexer": "ipython3",
   "version": "3.9.6"
  }
 },
 "nbformat": 4,
 "nbformat_minor": 5
}
