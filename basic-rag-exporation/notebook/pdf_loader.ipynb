{
 "cells": [
  {
   "cell_type": "code",
   "execution_count": 5,
   "id": "4a904354",
   "metadata": {},
   "outputs": [],
   "source": [
    "from langchain_core.documents import Document\n",
    "from langchain.document_loaders import PyPDFLoader, DirectoryLoader, PyMuPDFLoader\n",
    "from langchain.text_splitter import RecursiveCharacterTextSplitter"
   ]
  },
  {
   "cell_type": "code",
   "execution_count": null,
   "id": "113b2261",
   "metadata": {},
   "outputs": [
    {
     "data": {
      "text/plain": [
       "[Document(metadata={'producer': 'pdfTeX-1.40.26', 'creator': 'TeX', 'creationdate': '2025-10-06T20:11:43+00:00', 'source': '../data/pdf_files/Cover_Letter (1).pdf', 'file_path': '../data/pdf_files/Cover_Letter (1).pdf', 'total_pages': 1, 'format': 'PDF 1.5', 'title': '', 'author': '', 'subject': '', 'keywords': '', 'moddate': '2025-10-06T20:11:43+00:00', 'trapped': '', 'modDate': 'D:20251006201143Z', 'creationDate': 'D:20251006201143Z', 'page': 0}, page_content='Shree Gopalakrishnan\\n858-761-2827\\n—\\nshree.hridai@gmail.com\\n—\\nlinkedin.com/in/shree-gk\\n—\\ngithub.com/Shree-G\\nOctober 6, 2025\\nVP of Engineering\\nSupplyframe, a Siemens Company\\nPasadena, CA\\nDear VP of Engineering,\\nI was genuinely excited to see the opening for a Full Stack Engineer at Supplyframe. Your mission to build\\ntools that change how engineers research, design, and create new hardware immediately caught my attention.\\nI’ve always been driven by the process of taking a great idea from a rough concept all the way to a finished\\nproduct that helps people, and it sounds like that’s exactly what your team does every day. The ”start-up\\nmentality” within a company like Siemens sounds like the perfect place to build something meaningful.\\nThroughout my career, I’ve enjoyed diving into complex challenges and building practical, scalable solutions.\\nAt iFrog Marketing, I had the opportunity to architect and build a full-stack AI analytics platform from\\nthe ground up. We started with over 200,000 raw dealer records and a big idea. I engineered the data\\npipeline to process it all and then built the user-facing dashboard that provided real-time lead scoring.\\nSeeing that platform launch and directly lead to a 15% increase in sales conversion was incredibly rewarding.\\nThat project involved the very technologies you’re looking for—Node.js, PostgreSQL, and BigQuery—and I\\nbelieve that experience would allow me to start contributing to your team quickly.\\nWhat I love most about being a full-stack engineer is seeing the whole picture. I’m just as comfortable\\narchitecting a database schema—like when I helped migrate from NoSQL to PostgreSQL at Mercury Alert\\nAI—as I am refining front-end components to create a seamless user experience. Whether it’s optimizing a\\nquery to make a dashboard 40% faster or building a REST API from scratch, my goal is always the same:\\nship features that solve real problems.\\nI would be thrilled to talk more about how my experience building end-to-end systems and my passion for\\nyour mission could help the team at Supplyframe. Thank you so much for your time and consideration.\\nWarmly,\\nShree Gopalakrishnan'),\n",
       " Document(metadata={'producer': 'pdfTeX-1.40.26', 'creator': 'LaTeX with hyperref', 'creationdate': '2025-08-31T07:10:13+00:00', 'source': '../data/pdf_files/Resume.pdf', 'file_path': '../data/pdf_files/Resume.pdf', 'total_pages': 1, 'format': 'PDF 1.5', 'title': '', 'author': '', 'subject': '', 'keywords': '', 'moddate': '2025-08-31T07:10:13+00:00', 'trapped': '', 'modDate': 'D:20250831071013Z', 'creationDate': 'D:20250831071013Z', 'page': 0}, page_content='Shree Gopalakrishnan\\n858-761-2827 | shree.hridai@gmail.com | Linkedin: shree-gk W | Github: Shree-G W\\nFull Stack Engineer with a track record of taking products from idea to production in fast-paced environments. My\\nexperience ranges from building an award-winning IoT hardware MVP to deploying a scalable, full-stack AI analytics\\nplatform that boosted sales conversion. Currently looking to join a fast-paced startup where I can apply my full stack and\\nAI expertise to build end-to-end systems that solve complex challenges and ship features that actually help people.\\nTechnical Skills\\nLanguages & Frameworks: JavaScript (ES6+), TypeScript, Python, SQL, React.js, Next.js, FastAPI, Node.js, Prisma\\nFrontend Tools: Tailwind CSS, ShadCN, Styled Components, HTML, Framer Motion, D3\\nBackend & Data: Google BigQuery, PostgreSQL, Redis, RESTful API, ETL / ETL Processes, Docker, Websockets\\nAI/Data Science: Scikit-learn, Pandas, NumPy, K-Means Clustering, OpenAI API, Hugging Face\\nCloud & DevOps: GCP (Cloud Functions, Cloud Run), AWS (S3, Lambda), Vercel, GitHub Actions, Neon\\nOther Tools: Git, Looker Studio, Playwright, Agile Development, Full-Stack Architecture\\nExperience\\nFull Stack Engineer\\nJuly 2025 – Present\\niFrog Marketing Solutions W\\n• Built a scalable data pipeline to process 200,000+ dealer records from a third-party API into Google BigQuery.\\n• Designed a full stack AI dashboard to provide real-time customer segmentation and lead scoring for 67 dealerships.\\n• Launched the platform to all dealership stakeholders, resulting in a 15% increase in ad sales conversion rates.\\nSoftware Engineering Intern\\nMay 2024 – Aug 2024\\nMercury Alert AI W\\n• Improved user dashboard load times by 40% for 300+ devices by optimizing patient-safety analytics functions.\\n• Architected 15+ relational schemas and refactored 10+ front end components for NoSQL to PostgreSQL migration.\\nMachine Learning Intern\\nJun 2024 – Oct 2024\\nServiceMob W\\n• Built a weekly call volume forecaster, achieving 9% MAPE to improve staffing decisions for 500+ support agents.\\n• Deployed forecasting API inside consumer-side web app accessed real-time by 5+ call-center agencies.\\nMachine Learning Intern\\nJun 2022 – Aug 2022\\nPoint Perfect Technology Solutions W\\n• Built a KNN-based resume classifier, that classified over 450+ resumes (and counting!) into best-fit jobs.\\n• Deployed the classifier as a REST API and integrated it with an internal HR tool to cut time-to-hire by 30%.\\nProjects\\nShrocial Media W | Next.js, Node.js, App Router, TypeScript, PostgreSQL, Prisma, Tailwind CSS, ShadCN, Neon, Clerk\\n• Developed a full-stack social app using Next.js with server-side rendering and 15+ dynamic/static routes.\\n• Integrated Neon Database with PostgreSQL and Prisma ORM, creating 10+ route handlers for API responses.\\n• Designed a responsive UI with Tailwind CSS for consistent styling and dynamic layouts for 4 screen sizes.\\nRestaurant Ordering System W | Full Stack Development, IoT, Real-Time Systems, MVP development\\n• Built a web-based order accuracy system using Raspberry Pi, reducing simulated errors by 35% in restaurants.\\n• Designed and fabricated a 3D-modeled wooden enclosure to house a touchscreen, battery, and Raspberry Pi.\\n• Implemented real-time tracking to process 10+ concurrent orders with <1s latency and haptic feedback.\\n• Won 2nd place among 20+ teams in UCSD’s MVP competition for technical innovation and hands-on engineering.\\nEducation\\nUniversity of California, San Diego\\nSep 2021 – Jun 2025\\nB.S. in Computer Science\\n• Relevant Coursework: Advanced Data Structures in Java, Design and Analysis of Algorithms, Deep Learning'),\n",
       " Document(metadata={'producer': 'pdfTeX-1.40.26', 'creator': 'TeX', 'creationdate': '2025-09-17T23:27:11+00:00', 'source': '../data/pdf_files/Cover_Letter.pdf', 'file_path': '../data/pdf_files/Cover_Letter.pdf', 'total_pages': 1, 'format': 'PDF 1.5', 'title': '', 'author': '', 'subject': '', 'keywords': '', 'moddate': '2025-09-17T23:27:11+00:00', 'trapped': '', 'modDate': 'D:20250917232711Z', 'creationDate': 'D:20250917232711Z', 'page': 0}, page_content='Shree Gopalakrishnan\\n858-761-2827\\n—\\nshree.hridai@gmail.com\\n—\\nhttps://github.com/Shree-G\\nSeptember 17, 2025\\nRoblox Hiring Team\\n970 Park Pl\\nSan Mateo, CA 94403\\nDear Roblox Hiring Team,\\nI was thrilled to see the Early Career Software Engineer opening. The mission to build the future of human\\ninteraction and empower a global community of creators is incredibly inspiring, and it’s a vision I would be\\nexcited to contribute to.\\nI have a strong foundation in software engineering through my projects, where I’ve used languages like Python\\nand C++ to build full-stack applications. The opportunity to work on large-scale distributed systems and\\ncollaborate with teams across design, product, and infrastructure is a perfect match for my desire to learn\\nand grow.\\nI am especially drawn to the chance to tackle unique challenges at scale. For instance, in a recent project, I\\ndeveloped a tool that involved designing the user-facing features and the back-end logic, giving me hands-on\\nexperience with the full development lifecycle you described.\\nI am a quick learner who thrives in dynamic environments, and I’m eager to be mentored by top engineers\\nwhile contributing to impactful projects. I would welcome the opportunity to discuss how I can help the\\nteam at Roblox.\\nBest regards,\\nShree Gopalakrishnan'),\n",
       " Document(metadata={'producer': 'pdfTeX-1.40.26', 'creator': 'TeX', 'creationdate': '2025-10-10T01:44:36+00:00', 'source': '../data/pdf_files/Cover_Letter (4).pdf', 'file_path': '../data/pdf_files/Cover_Letter (4).pdf', 'total_pages': 1, 'format': 'PDF 1.5', 'title': '', 'author': '', 'subject': '', 'keywords': '', 'moddate': '2025-10-10T01:44:36+00:00', 'trapped': '', 'modDate': 'D:20251010014436Z', 'creationDate': 'D:20251010014436Z', 'page': 0}, page_content='Shree Gopalakrishnan\\n858-761-2827\\n—\\nshree.hridai@gmail.com\\n—\\nlinkedin.com/in/shree-gk\\n—\\ngithub.com/Shree-G\\nOctober 10, 2025\\nForage Hiring Team\\nDear Forage Hiring Team,\\nAs a soon-to-be new graduate, I’m looking for a role where the code I write has a clear and positive impact.\\nForage’s mission to help families access food really stood out to me, and it’s the kind of meaningful work I\\nwant to be a part of. I’m writing to apply for your software engineering position for recent graduates.\\nMy computer science degree and work experiences have given me a solid foundation in software development.\\nWhile I have experience across the stack with Python, I’ve recently spiked my focus on frontend work with\\nTypeScript. A good example of this is the full-stack AI dashboard I designed and built at iFrog, which\\nprovides real-time customer segmentation and lead scoring to over 60 car dealerships.\\nWhat excites me about a startup environment is the chance to take ownership and see a feature through\\nfrom the first line of code to launch. I’m eager to join a small, focused team where I can learn from others\\nthrough things like code reviews and contribute to building reliable, user-friendly systems.\\nThe opportunity to grow as an engineer while contributing to a mission as important as yours is exactly\\nwhat I’m looking for. I’d be happy to talk more about my background and how I could help your team.\\nThank you for your time.\\nBest,\\nShree Gopalakrishnan'),\n",
       " Document(metadata={'producer': 'pdfTeX-1.40.26', 'creator': 'TeX', 'creationdate': '2025-10-06T20:57:25+00:00', 'source': '../data/pdf_files/Cover_Letter (3).pdf', 'file_path': '../data/pdf_files/Cover_Letter (3).pdf', 'total_pages': 1, 'format': 'PDF 1.5', 'title': '', 'author': '', 'subject': '', 'keywords': '', 'moddate': '2025-10-06T20:57:25+00:00', 'trapped': '', 'modDate': 'D:20251006205725Z', 'creationDate': 'D:20251006205725Z', 'page': 0}, page_content='Shree Gopalakrishnan\\n858-761-2827\\n—\\nshree.hridai@gmail.com\\n—\\nlinkedin.com/in/shree-gk\\n—\\ngithub.com/Shree-G\\nOctober 6, 2025\\nTwitch Hiring Team\\nSan Francisco, CA\\nDear Twitch Hiring Team,\\nI’ve been following Twitch for a while and have a genuine interest in the technology that allows so many\\ndifferent communities to connect in real-time. When I saw the opening for a Software Development Engineer\\non your Video Platform team, it felt like a great match for my skills and what I enjoy doing, so I wanted to\\nreach out.\\nMy background is in building and scaling full-stack applications. I have over a year of professional experience\\nusing modern languages like TypeScript and Python, and I enjoy working with frameworks like React and\\nNode.js. In my role at iFrog, I built a data pipeline from scratch to handle a high volume of records, which\\ngave me solid experience in designing and maintaining production systems. My computer science degree also\\ngave me a strong foundation in the fundamentals you’re looking for, like data structures and schema design.\\nWhile I haven’t worked directly with video delivery systems, I’ve tackled similar challenges in latency and\\nreal-time processing. For one project, I built an IoT ordering system that had to process dozens of concurrent\\norders with less than a second of latency. Solving that kind of problem was fascinating, and the chance to\\nwork on similar, larger-scale challenges for millions of users on the Twitch video platform is something I’d\\nbe very excited about.\\nWhat really stands out to me about Twitch is the focus on community and collaboration. I enjoy working\\nin a team environment where everyone is focused on solving problems together, and I’m looking for a place\\nwhere I can positively contribute to the engineering culture. I’d be happy to talk more about my experience\\nand how it could help the Video Platform team. Thanks for your time and consideration.\\nBest,\\nShree Gopalakrishnan'),\n",
       " Document(metadata={'producer': 'pdfTeX-1.40.26', 'creator': 'TeX', 'creationdate': '2025-10-06T20:29:17+00:00', 'source': '../data/pdf_files/Cover_Letter (2).pdf', 'file_path': '../data/pdf_files/Cover_Letter (2).pdf', 'total_pages': 1, 'format': 'PDF 1.5', 'title': '', 'author': '', 'subject': '', 'keywords': '', 'moddate': '2025-10-06T20:29:17+00:00', 'trapped': '', 'modDate': 'D:20251006202917Z', 'creationDate': 'D:20251006202917Z', 'page': 0}, page_content='Shree Gopalakrishnan\\n858-761-2827\\n—\\nshree.hridai@gmail.com\\n—\\nlinkedin.com/in/shree-gk\\n—\\ngithub.com/Shree-G\\nOctober 6, 2025\\nCoinbase Hiring Team\\nDear Coinbase Hiring Team,\\nI was incredibly inspired reading about your mission to increase economic freedom in the world. I’m not\\njust looking for another software engineering role; I’m looking to be part of a team that is tackling massive,\\nmeaningful problems. Your description of an intense, high-caliber culture where engineers run toward the\\nhardest challenges is exactly the type of environment where I believe I can do my best work.\\nI have a deep passion for building scalable, production-ready systems that solve real-world problems. As\\na Full Stack Engineer at iFrog, I architected a data pipeline to process over 200,000 records and built a\\nfull-stack AI platform from the ground up. This experience in designing and scaling services with tools\\nlike PostgreSQL and Docker aligns directly with what you’re looking for. More importantly, that project’s\\nsuccess was measured by its impact on business growth—a 15% increase in sales conversion—which is the\\nkind of results-driven work I know is central to your Growth organization.\\nYour desire for engineers who can take a product from 0 to 1 resonates strongly with my background. I\\nhave a track record of taking products from idea to production, including an award-winning IoT system I\\ndeveloped from concept to a working MVP. I thrive on the challenge of bridging the gap between a technical\\nvision and a tangible product that helps people, and I am eager to apply that same energy to building the\\nfuture of the onchain platform.\\nI am passionate about building an open financial system and believe my skills in backend engineering can\\ndirectly contribute to your mission. The opportunity to learn from and contribute to such a talented team\\nwould be a privilege. Thank you for your time and consideration.\\nSincerely,\\nShree Gopalakrishnan')]"
      ]
     },
     "execution_count": 6,
     "metadata": {},
     "output_type": "execute_result"
    }
   ],
   "source": [
    "dir_loader = DirectoryLoader(\"../data/pdf_files\", glob=\"*.pdf\", loader_cls=PyMuPDFLoader)\n",
    "documents = dir_loader.load()\n",
    "documents"
   ]
  },
  {
   "cell_type": "code",
   "execution_count": 10,
   "id": "90a40e65",
   "metadata": {},
   "outputs": [
    {
     "data": {
      "text/plain": [
       "[Document(metadata={'producer': 'pdfTeX-1.40.26', 'creator': 'TeX', 'creationdate': '2025-10-06T20:11:43+00:00', 'source': '../data/pdf_files/Cover_Letter (1).pdf', 'file_path': '../data/pdf_files/Cover_Letter (1).pdf', 'total_pages': 1, 'format': 'PDF 1.5', 'title': '', 'author': '', 'subject': '', 'keywords': '', 'moddate': '2025-10-06T20:11:43+00:00', 'trapped': '', 'modDate': 'D:20251006201143Z', 'creationDate': 'D:20251006201143Z', 'page': 0}, page_content='Shree Gopalakrishnan\\n858-761-2827\\n—\\nshree.hridai@gmail.com\\n—\\nlinkedin.com/in/shree-gk\\n—\\ngithub.com/Shree-G\\nOctober 6, 2025\\nVP of Engineering\\nSupplyframe, a Siemens Company\\nPasadena, CA\\nDear VP of Engineering,\\nI was genuinely excited to see the opening for a Full Stack Engineer at Supplyframe. Your mission to build\\ntools that change how engineers research, design, and create new hardware immediately caught my attention.'),\n",
       " Document(metadata={'producer': 'pdfTeX-1.40.26', 'creator': 'TeX', 'creationdate': '2025-10-06T20:11:43+00:00', 'source': '../data/pdf_files/Cover_Letter (1).pdf', 'file_path': '../data/pdf_files/Cover_Letter (1).pdf', 'total_pages': 1, 'format': 'PDF 1.5', 'title': '', 'author': '', 'subject': '', 'keywords': '', 'moddate': '2025-10-06T20:11:43+00:00', 'trapped': '', 'modDate': 'D:20251006201143Z', 'creationDate': 'D:20251006201143Z', 'page': 0}, page_content='I’ve always been driven by the process of taking a great idea from a rough concept all the way to a finished\\nproduct that helps people, and it sounds like that’s exactly what your team does every day. The ”start-up\\nmentality” within a company like Siemens sounds like the perfect place to build something meaningful.\\nThroughout my career, I’ve enjoyed diving into complex challenges and building practical, scalable solutions.'),\n",
       " Document(metadata={'producer': 'pdfTeX-1.40.26', 'creator': 'TeX', 'creationdate': '2025-10-06T20:11:43+00:00', 'source': '../data/pdf_files/Cover_Letter (1).pdf', 'file_path': '../data/pdf_files/Cover_Letter (1).pdf', 'total_pages': 1, 'format': 'PDF 1.5', 'title': '', 'author': '', 'subject': '', 'keywords': '', 'moddate': '2025-10-06T20:11:43+00:00', 'trapped': '', 'modDate': 'D:20251006201143Z', 'creationDate': 'D:20251006201143Z', 'page': 0}, page_content='At iFrog Marketing, I had the opportunity to architect and build a full-stack AI analytics platform from\\nthe ground up. We started with over 200,000 raw dealer records and a big idea. I engineered the data\\npipeline to process it all and then built the user-facing dashboard that provided real-time lead scoring.\\nSeeing that platform launch and directly lead to a 15% increase in sales conversion was incredibly rewarding.'),\n",
       " Document(metadata={'producer': 'pdfTeX-1.40.26', 'creator': 'TeX', 'creationdate': '2025-10-06T20:11:43+00:00', 'source': '../data/pdf_files/Cover_Letter (1).pdf', 'file_path': '../data/pdf_files/Cover_Letter (1).pdf', 'total_pages': 1, 'format': 'PDF 1.5', 'title': '', 'author': '', 'subject': '', 'keywords': '', 'moddate': '2025-10-06T20:11:43+00:00', 'trapped': '', 'modDate': 'D:20251006201143Z', 'creationDate': 'D:20251006201143Z', 'page': 0}, page_content='That project involved the very technologies you’re looking for—Node.js, PostgreSQL, and BigQuery—and I\\nbelieve that experience would allow me to start contributing to your team quickly.\\nWhat I love most about being a full-stack engineer is seeing the whole picture. I’m just as comfortable\\narchitecting a database schema—like when I helped migrate from NoSQL to PostgreSQL at Mercury Alert\\nAI—as I am refining front-end components to create a seamless user experience. Whether it’s optimizing a'),\n",
       " Document(metadata={'producer': 'pdfTeX-1.40.26', 'creator': 'TeX', 'creationdate': '2025-10-06T20:11:43+00:00', 'source': '../data/pdf_files/Cover_Letter (1).pdf', 'file_path': '../data/pdf_files/Cover_Letter (1).pdf', 'total_pages': 1, 'format': 'PDF 1.5', 'title': '', 'author': '', 'subject': '', 'keywords': '', 'moddate': '2025-10-06T20:11:43+00:00', 'trapped': '', 'modDate': 'D:20251006201143Z', 'creationDate': 'D:20251006201143Z', 'page': 0}, page_content='query to make a dashboard 40% faster or building a REST API from scratch, my goal is always the same:\\nship features that solve real problems.\\nI would be thrilled to talk more about how my experience building end-to-end systems and my passion for\\nyour mission could help the team at Supplyframe. Thank you so much for your time and consideration.\\nWarmly,\\nShree Gopalakrishnan'),\n",
       " Document(metadata={'producer': 'pdfTeX-1.40.26', 'creator': 'LaTeX with hyperref', 'creationdate': '2025-08-31T07:10:13+00:00', 'source': '../data/pdf_files/Resume.pdf', 'file_path': '../data/pdf_files/Resume.pdf', 'total_pages': 1, 'format': 'PDF 1.5', 'title': '', 'author': '', 'subject': '', 'keywords': '', 'moddate': '2025-08-31T07:10:13+00:00', 'trapped': '', 'modDate': 'D:20250831071013Z', 'creationDate': 'D:20250831071013Z', 'page': 0}, page_content='Shree Gopalakrishnan\\n858-761-2827 | shree.hridai@gmail.com | Linkedin: shree-gk W | Github: Shree-G W\\nFull Stack Engineer with a track record of taking products from idea to production in fast-paced environments. My\\nexperience ranges from building an award-winning IoT hardware MVP to deploying a scalable, full-stack AI analytics\\nplatform that boosted sales conversion. Currently looking to join a fast-paced startup where I can apply my full stack and'),\n",
       " Document(metadata={'producer': 'pdfTeX-1.40.26', 'creator': 'LaTeX with hyperref', 'creationdate': '2025-08-31T07:10:13+00:00', 'source': '../data/pdf_files/Resume.pdf', 'file_path': '../data/pdf_files/Resume.pdf', 'total_pages': 1, 'format': 'PDF 1.5', 'title': '', 'author': '', 'subject': '', 'keywords': '', 'moddate': '2025-08-31T07:10:13+00:00', 'trapped': '', 'modDate': 'D:20250831071013Z', 'creationDate': 'D:20250831071013Z', 'page': 0}, page_content='AI expertise to build end-to-end systems that solve complex challenges and ship features that actually help people.\\nTechnical Skills\\nLanguages & Frameworks: JavaScript (ES6+), TypeScript, Python, SQL, React.js, Next.js, FastAPI, Node.js, Prisma\\nFrontend Tools: Tailwind CSS, ShadCN, Styled Components, HTML, Framer Motion, D3\\nBackend & Data: Google BigQuery, PostgreSQL, Redis, RESTful API, ETL / ETL Processes, Docker, Websockets'),\n",
       " Document(metadata={'producer': 'pdfTeX-1.40.26', 'creator': 'LaTeX with hyperref', 'creationdate': '2025-08-31T07:10:13+00:00', 'source': '../data/pdf_files/Resume.pdf', 'file_path': '../data/pdf_files/Resume.pdf', 'total_pages': 1, 'format': 'PDF 1.5', 'title': '', 'author': '', 'subject': '', 'keywords': '', 'moddate': '2025-08-31T07:10:13+00:00', 'trapped': '', 'modDate': 'D:20250831071013Z', 'creationDate': 'D:20250831071013Z', 'page': 0}, page_content='AI/Data Science: Scikit-learn, Pandas, NumPy, K-Means Clustering, OpenAI API, Hugging Face\\nCloud & DevOps: GCP (Cloud Functions, Cloud Run), AWS (S3, Lambda), Vercel, GitHub Actions, Neon\\nOther Tools: Git, Looker Studio, Playwright, Agile Development, Full-Stack Architecture\\nExperience\\nFull Stack Engineer\\nJuly 2025 – Present\\niFrog Marketing Solutions W\\n• Built a scalable data pipeline to process 200,000+ dealer records from a third-party API into Google BigQuery.'),\n",
       " Document(metadata={'producer': 'pdfTeX-1.40.26', 'creator': 'LaTeX with hyperref', 'creationdate': '2025-08-31T07:10:13+00:00', 'source': '../data/pdf_files/Resume.pdf', 'file_path': '../data/pdf_files/Resume.pdf', 'total_pages': 1, 'format': 'PDF 1.5', 'title': '', 'author': '', 'subject': '', 'keywords': '', 'moddate': '2025-08-31T07:10:13+00:00', 'trapped': '', 'modDate': 'D:20250831071013Z', 'creationDate': 'D:20250831071013Z', 'page': 0}, page_content='• Designed a full stack AI dashboard to provide real-time customer segmentation and lead scoring for 67 dealerships.\\n• Launched the platform to all dealership stakeholders, resulting in a 15% increase in ad sales conversion rates.\\nSoftware Engineering Intern\\nMay 2024 – Aug 2024\\nMercury Alert AI W\\n• Improved user dashboard load times by 40% for 300+ devices by optimizing patient-safety analytics functions.'),\n",
       " Document(metadata={'producer': 'pdfTeX-1.40.26', 'creator': 'LaTeX with hyperref', 'creationdate': '2025-08-31T07:10:13+00:00', 'source': '../data/pdf_files/Resume.pdf', 'file_path': '../data/pdf_files/Resume.pdf', 'total_pages': 1, 'format': 'PDF 1.5', 'title': '', 'author': '', 'subject': '', 'keywords': '', 'moddate': '2025-08-31T07:10:13+00:00', 'trapped': '', 'modDate': 'D:20250831071013Z', 'creationDate': 'D:20250831071013Z', 'page': 0}, page_content='• Architected 15+ relational schemas and refactored 10+ front end components for NoSQL to PostgreSQL migration.\\nMachine Learning Intern\\nJun 2024 – Oct 2024\\nServiceMob W\\n• Built a weekly call volume forecaster, achieving 9% MAPE to improve staffing decisions for 500+ support agents.\\n• Deployed forecasting API inside consumer-side web app accessed real-time by 5+ call-center agencies.\\nMachine Learning Intern\\nJun 2022 – Aug 2022\\nPoint Perfect Technology Solutions W'),\n",
       " Document(metadata={'producer': 'pdfTeX-1.40.26', 'creator': 'LaTeX with hyperref', 'creationdate': '2025-08-31T07:10:13+00:00', 'source': '../data/pdf_files/Resume.pdf', 'file_path': '../data/pdf_files/Resume.pdf', 'total_pages': 1, 'format': 'PDF 1.5', 'title': '', 'author': '', 'subject': '', 'keywords': '', 'moddate': '2025-08-31T07:10:13+00:00', 'trapped': '', 'modDate': 'D:20250831071013Z', 'creationDate': 'D:20250831071013Z', 'page': 0}, page_content='Point Perfect Technology Solutions W\\n• Built a KNN-based resume classifier, that classified over 450+ resumes (and counting!) into best-fit jobs.\\n• Deployed the classifier as a REST API and integrated it with an internal HR tool to cut time-to-hire by 30%.\\nProjects\\nShrocial Media W | Next.js, Node.js, App Router, TypeScript, PostgreSQL, Prisma, Tailwind CSS, ShadCN, Neon, Clerk\\n• Developed a full-stack social app using Next.js with server-side rendering and 15+ dynamic/static routes.'),\n",
       " Document(metadata={'producer': 'pdfTeX-1.40.26', 'creator': 'LaTeX with hyperref', 'creationdate': '2025-08-31T07:10:13+00:00', 'source': '../data/pdf_files/Resume.pdf', 'file_path': '../data/pdf_files/Resume.pdf', 'total_pages': 1, 'format': 'PDF 1.5', 'title': '', 'author': '', 'subject': '', 'keywords': '', 'moddate': '2025-08-31T07:10:13+00:00', 'trapped': '', 'modDate': 'D:20250831071013Z', 'creationDate': 'D:20250831071013Z', 'page': 0}, page_content='• Integrated Neon Database with PostgreSQL and Prisma ORM, creating 10+ route handlers for API responses.\\n• Designed a responsive UI with Tailwind CSS for consistent styling and dynamic layouts for 4 screen sizes.\\nRestaurant Ordering System W | Full Stack Development, IoT, Real-Time Systems, MVP development\\n• Built a web-based order accuracy system using Raspberry Pi, reducing simulated errors by 35% in restaurants.'),\n",
       " Document(metadata={'producer': 'pdfTeX-1.40.26', 'creator': 'LaTeX with hyperref', 'creationdate': '2025-08-31T07:10:13+00:00', 'source': '../data/pdf_files/Resume.pdf', 'file_path': '../data/pdf_files/Resume.pdf', 'total_pages': 1, 'format': 'PDF 1.5', 'title': '', 'author': '', 'subject': '', 'keywords': '', 'moddate': '2025-08-31T07:10:13+00:00', 'trapped': '', 'modDate': 'D:20250831071013Z', 'creationDate': 'D:20250831071013Z', 'page': 0}, page_content='• Designed and fabricated a 3D-modeled wooden enclosure to house a touchscreen, battery, and Raspberry Pi.\\n• Implemented real-time tracking to process 10+ concurrent orders with <1s latency and haptic feedback.\\n• Won 2nd place among 20+ teams in UCSD’s MVP competition for technical innovation and hands-on engineering.\\nEducation\\nUniversity of California, San Diego\\nSep 2021 – Jun 2025\\nB.S. in Computer Science'),\n",
       " Document(metadata={'producer': 'pdfTeX-1.40.26', 'creator': 'LaTeX with hyperref', 'creationdate': '2025-08-31T07:10:13+00:00', 'source': '../data/pdf_files/Resume.pdf', 'file_path': '../data/pdf_files/Resume.pdf', 'total_pages': 1, 'format': 'PDF 1.5', 'title': '', 'author': '', 'subject': '', 'keywords': '', 'moddate': '2025-08-31T07:10:13+00:00', 'trapped': '', 'modDate': 'D:20250831071013Z', 'creationDate': 'D:20250831071013Z', 'page': 0}, page_content='Sep 2021 – Jun 2025\\nB.S. in Computer Science\\n• Relevant Coursework: Advanced Data Structures in Java, Design and Analysis of Algorithms, Deep Learning'),\n",
       " Document(metadata={'producer': 'pdfTeX-1.40.26', 'creator': 'TeX', 'creationdate': '2025-09-17T23:27:11+00:00', 'source': '../data/pdf_files/Cover_Letter.pdf', 'file_path': '../data/pdf_files/Cover_Letter.pdf', 'total_pages': 1, 'format': 'PDF 1.5', 'title': '', 'author': '', 'subject': '', 'keywords': '', 'moddate': '2025-09-17T23:27:11+00:00', 'trapped': '', 'modDate': 'D:20250917232711Z', 'creationDate': 'D:20250917232711Z', 'page': 0}, page_content='Shree Gopalakrishnan\\n858-761-2827\\n—\\nshree.hridai@gmail.com\\n—\\nhttps://github.com/Shree-G\\nSeptember 17, 2025\\nRoblox Hiring Team\\n970 Park Pl\\nSan Mateo, CA 94403\\nDear Roblox Hiring Team,\\nI was thrilled to see the Early Career Software Engineer opening. The mission to build the future of human\\ninteraction and empower a global community of creators is incredibly inspiring, and it’s a vision I would be\\nexcited to contribute to.'),\n",
       " Document(metadata={'producer': 'pdfTeX-1.40.26', 'creator': 'TeX', 'creationdate': '2025-09-17T23:27:11+00:00', 'source': '../data/pdf_files/Cover_Letter.pdf', 'file_path': '../data/pdf_files/Cover_Letter.pdf', 'total_pages': 1, 'format': 'PDF 1.5', 'title': '', 'author': '', 'subject': '', 'keywords': '', 'moddate': '2025-09-17T23:27:11+00:00', 'trapped': '', 'modDate': 'D:20250917232711Z', 'creationDate': 'D:20250917232711Z', 'page': 0}, page_content='excited to contribute to.\\nI have a strong foundation in software engineering through my projects, where I’ve used languages like Python\\nand C++ to build full-stack applications. The opportunity to work on large-scale distributed systems and\\ncollaborate with teams across design, product, and infrastructure is a perfect match for my desire to learn\\nand grow.\\nI am especially drawn to the chance to tackle unique challenges at scale. For instance, in a recent project, I'),\n",
       " Document(metadata={'producer': 'pdfTeX-1.40.26', 'creator': 'TeX', 'creationdate': '2025-09-17T23:27:11+00:00', 'source': '../data/pdf_files/Cover_Letter.pdf', 'file_path': '../data/pdf_files/Cover_Letter.pdf', 'total_pages': 1, 'format': 'PDF 1.5', 'title': '', 'author': '', 'subject': '', 'keywords': '', 'moddate': '2025-09-17T23:27:11+00:00', 'trapped': '', 'modDate': 'D:20250917232711Z', 'creationDate': 'D:20250917232711Z', 'page': 0}, page_content='developed a tool that involved designing the user-facing features and the back-end logic, giving me hands-on\\nexperience with the full development lifecycle you described.\\nI am a quick learner who thrives in dynamic environments, and I’m eager to be mentored by top engineers\\nwhile contributing to impactful projects. I would welcome the opportunity to discuss how I can help the\\nteam at Roblox.\\nBest regards,\\nShree Gopalakrishnan'),\n",
       " Document(metadata={'producer': 'pdfTeX-1.40.26', 'creator': 'TeX', 'creationdate': '2025-10-10T01:44:36+00:00', 'source': '../data/pdf_files/Cover_Letter (4).pdf', 'file_path': '../data/pdf_files/Cover_Letter (4).pdf', 'total_pages': 1, 'format': 'PDF 1.5', 'title': '', 'author': '', 'subject': '', 'keywords': '', 'moddate': '2025-10-10T01:44:36+00:00', 'trapped': '', 'modDate': 'D:20251010014436Z', 'creationDate': 'D:20251010014436Z', 'page': 0}, page_content='Shree Gopalakrishnan\\n858-761-2827\\n—\\nshree.hridai@gmail.com\\n—\\nlinkedin.com/in/shree-gk\\n—\\ngithub.com/Shree-G\\nOctober 10, 2025\\nForage Hiring Team\\nDear Forage Hiring Team,\\nAs a soon-to-be new graduate, I’m looking for a role where the code I write has a clear and positive impact.\\nForage’s mission to help families access food really stood out to me, and it’s the kind of meaningful work I\\nwant to be a part of. I’m writing to apply for your software engineering position for recent graduates.'),\n",
       " Document(metadata={'producer': 'pdfTeX-1.40.26', 'creator': 'TeX', 'creationdate': '2025-10-10T01:44:36+00:00', 'source': '../data/pdf_files/Cover_Letter (4).pdf', 'file_path': '../data/pdf_files/Cover_Letter (4).pdf', 'total_pages': 1, 'format': 'PDF 1.5', 'title': '', 'author': '', 'subject': '', 'keywords': '', 'moddate': '2025-10-10T01:44:36+00:00', 'trapped': '', 'modDate': 'D:20251010014436Z', 'creationDate': 'D:20251010014436Z', 'page': 0}, page_content='My computer science degree and work experiences have given me a solid foundation in software development.\\nWhile I have experience across the stack with Python, I’ve recently spiked my focus on frontend work with\\nTypeScript. A good example of this is the full-stack AI dashboard I designed and built at iFrog, which\\nprovides real-time customer segmentation and lead scoring to over 60 car dealerships.'),\n",
       " Document(metadata={'producer': 'pdfTeX-1.40.26', 'creator': 'TeX', 'creationdate': '2025-10-10T01:44:36+00:00', 'source': '../data/pdf_files/Cover_Letter (4).pdf', 'file_path': '../data/pdf_files/Cover_Letter (4).pdf', 'total_pages': 1, 'format': 'PDF 1.5', 'title': '', 'author': '', 'subject': '', 'keywords': '', 'moddate': '2025-10-10T01:44:36+00:00', 'trapped': '', 'modDate': 'D:20251010014436Z', 'creationDate': 'D:20251010014436Z', 'page': 0}, page_content='What excites me about a startup environment is the chance to take ownership and see a feature through\\nfrom the first line of code to launch. I’m eager to join a small, focused team where I can learn from others\\nthrough things like code reviews and contribute to building reliable, user-friendly systems.\\nThe opportunity to grow as an engineer while contributing to a mission as important as yours is exactly'),\n",
       " Document(metadata={'producer': 'pdfTeX-1.40.26', 'creator': 'TeX', 'creationdate': '2025-10-10T01:44:36+00:00', 'source': '../data/pdf_files/Cover_Letter (4).pdf', 'file_path': '../data/pdf_files/Cover_Letter (4).pdf', 'total_pages': 1, 'format': 'PDF 1.5', 'title': '', 'author': '', 'subject': '', 'keywords': '', 'moddate': '2025-10-10T01:44:36+00:00', 'trapped': '', 'modDate': 'D:20251010014436Z', 'creationDate': 'D:20251010014436Z', 'page': 0}, page_content='what I’m looking for. I’d be happy to talk more about my background and how I could help your team.\\nThank you for your time.\\nBest,\\nShree Gopalakrishnan'),\n",
       " Document(metadata={'producer': 'pdfTeX-1.40.26', 'creator': 'TeX', 'creationdate': '2025-10-06T20:57:25+00:00', 'source': '../data/pdf_files/Cover_Letter (3).pdf', 'file_path': '../data/pdf_files/Cover_Letter (3).pdf', 'total_pages': 1, 'format': 'PDF 1.5', 'title': '', 'author': '', 'subject': '', 'keywords': '', 'moddate': '2025-10-06T20:57:25+00:00', 'trapped': '', 'modDate': 'D:20251006205725Z', 'creationDate': 'D:20251006205725Z', 'page': 0}, page_content='Shree Gopalakrishnan\\n858-761-2827\\n—\\nshree.hridai@gmail.com\\n—\\nlinkedin.com/in/shree-gk\\n—\\ngithub.com/Shree-G\\nOctober 6, 2025\\nTwitch Hiring Team\\nSan Francisco, CA\\nDear Twitch Hiring Team,\\nI’ve been following Twitch for a while and have a genuine interest in the technology that allows so many\\ndifferent communities to connect in real-time. When I saw the opening for a Software Development Engineer'),\n",
       " Document(metadata={'producer': 'pdfTeX-1.40.26', 'creator': 'TeX', 'creationdate': '2025-10-06T20:57:25+00:00', 'source': '../data/pdf_files/Cover_Letter (3).pdf', 'file_path': '../data/pdf_files/Cover_Letter (3).pdf', 'total_pages': 1, 'format': 'PDF 1.5', 'title': '', 'author': '', 'subject': '', 'keywords': '', 'moddate': '2025-10-06T20:57:25+00:00', 'trapped': '', 'modDate': 'D:20251006205725Z', 'creationDate': 'D:20251006205725Z', 'page': 0}, page_content='on your Video Platform team, it felt like a great match for my skills and what I enjoy doing, so I wanted to\\nreach out.\\nMy background is in building and scaling full-stack applications. I have over a year of professional experience\\nusing modern languages like TypeScript and Python, and I enjoy working with frameworks like React and\\nNode.js. In my role at iFrog, I built a data pipeline from scratch to handle a high volume of records, which'),\n",
       " Document(metadata={'producer': 'pdfTeX-1.40.26', 'creator': 'TeX', 'creationdate': '2025-10-06T20:57:25+00:00', 'source': '../data/pdf_files/Cover_Letter (3).pdf', 'file_path': '../data/pdf_files/Cover_Letter (3).pdf', 'total_pages': 1, 'format': 'PDF 1.5', 'title': '', 'author': '', 'subject': '', 'keywords': '', 'moddate': '2025-10-06T20:57:25+00:00', 'trapped': '', 'modDate': 'D:20251006205725Z', 'creationDate': 'D:20251006205725Z', 'page': 0}, page_content='gave me solid experience in designing and maintaining production systems. My computer science degree also\\ngave me a strong foundation in the fundamentals you’re looking for, like data structures and schema design.\\nWhile I haven’t worked directly with video delivery systems, I’ve tackled similar challenges in latency and\\nreal-time processing. For one project, I built an IoT ordering system that had to process dozens of concurrent'),\n",
       " Document(metadata={'producer': 'pdfTeX-1.40.26', 'creator': 'TeX', 'creationdate': '2025-10-06T20:57:25+00:00', 'source': '../data/pdf_files/Cover_Letter (3).pdf', 'file_path': '../data/pdf_files/Cover_Letter (3).pdf', 'total_pages': 1, 'format': 'PDF 1.5', 'title': '', 'author': '', 'subject': '', 'keywords': '', 'moddate': '2025-10-06T20:57:25+00:00', 'trapped': '', 'modDate': 'D:20251006205725Z', 'creationDate': 'D:20251006205725Z', 'page': 0}, page_content='orders with less than a second of latency. Solving that kind of problem was fascinating, and the chance to\\nwork on similar, larger-scale challenges for millions of users on the Twitch video platform is something I’d\\nbe very excited about.\\nWhat really stands out to me about Twitch is the focus on community and collaboration. I enjoy working\\nin a team environment where everyone is focused on solving problems together, and I’m looking for a place'),\n",
       " Document(metadata={'producer': 'pdfTeX-1.40.26', 'creator': 'TeX', 'creationdate': '2025-10-06T20:57:25+00:00', 'source': '../data/pdf_files/Cover_Letter (3).pdf', 'file_path': '../data/pdf_files/Cover_Letter (3).pdf', 'total_pages': 1, 'format': 'PDF 1.5', 'title': '', 'author': '', 'subject': '', 'keywords': '', 'moddate': '2025-10-06T20:57:25+00:00', 'trapped': '', 'modDate': 'D:20251006205725Z', 'creationDate': 'D:20251006205725Z', 'page': 0}, page_content='where I can positively contribute to the engineering culture. I’d be happy to talk more about my experience\\nand how it could help the Video Platform team. Thanks for your time and consideration.\\nBest,\\nShree Gopalakrishnan'),\n",
       " Document(metadata={'producer': 'pdfTeX-1.40.26', 'creator': 'TeX', 'creationdate': '2025-10-06T20:29:17+00:00', 'source': '../data/pdf_files/Cover_Letter (2).pdf', 'file_path': '../data/pdf_files/Cover_Letter (2).pdf', 'total_pages': 1, 'format': 'PDF 1.5', 'title': '', 'author': '', 'subject': '', 'keywords': '', 'moddate': '2025-10-06T20:29:17+00:00', 'trapped': '', 'modDate': 'D:20251006202917Z', 'creationDate': 'D:20251006202917Z', 'page': 0}, page_content='Shree Gopalakrishnan\\n858-761-2827\\n—\\nshree.hridai@gmail.com\\n—\\nlinkedin.com/in/shree-gk\\n—\\ngithub.com/Shree-G\\nOctober 6, 2025\\nCoinbase Hiring Team\\nDear Coinbase Hiring Team,\\nI was incredibly inspired reading about your mission to increase economic freedom in the world. I’m not\\njust looking for another software engineering role; I’m looking to be part of a team that is tackling massive,\\nmeaningful problems. Your description of an intense, high-caliber culture where engineers run toward the'),\n",
       " Document(metadata={'producer': 'pdfTeX-1.40.26', 'creator': 'TeX', 'creationdate': '2025-10-06T20:29:17+00:00', 'source': '../data/pdf_files/Cover_Letter (2).pdf', 'file_path': '../data/pdf_files/Cover_Letter (2).pdf', 'total_pages': 1, 'format': 'PDF 1.5', 'title': '', 'author': '', 'subject': '', 'keywords': '', 'moddate': '2025-10-06T20:29:17+00:00', 'trapped': '', 'modDate': 'D:20251006202917Z', 'creationDate': 'D:20251006202917Z', 'page': 0}, page_content='hardest challenges is exactly the type of environment where I believe I can do my best work.\\nI have a deep passion for building scalable, production-ready systems that solve real-world problems. As\\na Full Stack Engineer at iFrog, I architected a data pipeline to process over 200,000 records and built a\\nfull-stack AI platform from the ground up. This experience in designing and scaling services with tools'),\n",
       " Document(metadata={'producer': 'pdfTeX-1.40.26', 'creator': 'TeX', 'creationdate': '2025-10-06T20:29:17+00:00', 'source': '../data/pdf_files/Cover_Letter (2).pdf', 'file_path': '../data/pdf_files/Cover_Letter (2).pdf', 'total_pages': 1, 'format': 'PDF 1.5', 'title': '', 'author': '', 'subject': '', 'keywords': '', 'moddate': '2025-10-06T20:29:17+00:00', 'trapped': '', 'modDate': 'D:20251006202917Z', 'creationDate': 'D:20251006202917Z', 'page': 0}, page_content='like PostgreSQL and Docker aligns directly with what you’re looking for. More importantly, that project’s\\nsuccess was measured by its impact on business growth—a 15% increase in sales conversion—which is the\\nkind of results-driven work I know is central to your Growth organization.\\nYour desire for engineers who can take a product from 0 to 1 resonates strongly with my background. I\\nhave a track record of taking products from idea to production, including an award-winning IoT system I'),\n",
       " Document(metadata={'producer': 'pdfTeX-1.40.26', 'creator': 'TeX', 'creationdate': '2025-10-06T20:29:17+00:00', 'source': '../data/pdf_files/Cover_Letter (2).pdf', 'file_path': '../data/pdf_files/Cover_Letter (2).pdf', 'total_pages': 1, 'format': 'PDF 1.5', 'title': '', 'author': '', 'subject': '', 'keywords': '', 'moddate': '2025-10-06T20:29:17+00:00', 'trapped': '', 'modDate': 'D:20251006202917Z', 'creationDate': 'D:20251006202917Z', 'page': 0}, page_content='developed from concept to a working MVP. I thrive on the challenge of bridging the gap between a technical\\nvision and a tangible product that helps people, and I am eager to apply that same energy to building the\\nfuture of the onchain platform.\\nI am passionate about building an open financial system and believe my skills in backend engineering can\\ndirectly contribute to your mission. The opportunity to learn from and contribute to such a talented team'),\n",
       " Document(metadata={'producer': 'pdfTeX-1.40.26', 'creator': 'TeX', 'creationdate': '2025-10-06T20:29:17+00:00', 'source': '../data/pdf_files/Cover_Letter (2).pdf', 'file_path': '../data/pdf_files/Cover_Letter (2).pdf', 'total_pages': 1, 'format': 'PDF 1.5', 'title': '', 'author': '', 'subject': '', 'keywords': '', 'moddate': '2025-10-06T20:29:17+00:00', 'trapped': '', 'modDate': 'D:20251006202917Z', 'creationDate': 'D:20251006202917Z', 'page': 0}, page_content='would be a privilege. Thank you for your time and consideration.\\nSincerely,\\nShree Gopalakrishnan')]"
      ]
     },
     "execution_count": 10,
     "metadata": {},
     "output_type": "execute_result"
    }
   ],
   "source": [
    "# Text Splitting\n",
    "\n",
    "def split_documents(documents, chunk_size=500, chunk_overlap=50):\n",
    "    text_splitter = RecursiveCharacterTextSplitter(\n",
    "        chunk_size=chunk_size,\n",
    "        chunk_overlap=chunk_overlap,\n",
    "        length_function=len,\n",
    "        separators=[\"\\n\\n\", \"\\n\", \" \", \"\"]\n",
    "\n",
    "    )\n",
    "    return text_splitter.split_documents(documents)\n",
    "\n",
    "split_docs = split_documents(documents)\n",
    "split_docs"
   ]
  },
  {
   "cell_type": "code",
   "execution_count": 13,
   "id": "1fe9b04f",
   "metadata": {},
   "outputs": [],
   "source": [
    "import numpy as np\n",
    "import os\n",
    "from sentence_transformers import SentenceTransformer\n",
    "import chromadb\n",
    "from chromadb.config import Settings\n",
    "import uuid\n",
    "from typing import List, Dict, Any, Tuple\n",
    "from sklearn.metrics.pairwise import cosine_similarity"
   ]
  },
  {
   "cell_type": "code",
   "execution_count": 9,
   "id": "0b0e1f23",
   "metadata": {},
   "outputs": [],
   "source": [
    "class EmbeddingManager:\n",
    "    def __init__(self, model_name: str = \"all-MiniLM-L6-v2\"):\n",
    "        self.model_name = model_name\n",
    "        self.model = None\n",
    "        self._load_model() # calls the private method to load the model\n",
    "\n",
    "    def _load_model(self):\n",
    "        try:\n",
    "            self.model = SentenceTransformer(self.model_name)\n",
    "            print(f\"Embedding dimension: {self.model.get_sentence_embedding_dimension()}\")\n",
    "        except Exception as e:\n",
    "            print(f\"Error loading model: {self.model_name}. Error: {e}\")\n",
    "            raise\n",
    "\n",
    "    def generate_embeddings(self, texts : list[str]) -> np.ndarray:\n",
    "        if not self.model:\n",
    "            raise ValueError(\"Model not selected.\")\n",
    "\n",
    "        embeddings = self.model.encode(texts, show_progress_bar=True)\n",
    "        print(f\"shape of embeddings {embeddings.shape}\")\n",
    "        return embeddings"
   ]
  },
  {
   "cell_type": "code",
   "execution_count": 11,
   "id": "80f925be",
   "metadata": {},
   "outputs": [
    {
     "name": "stdout",
     "output_type": "stream",
     "text": [
      "Embedding dimension: 384\n"
     ]
    },
    {
     "data": {
      "text/plain": [
       "<__main__.EmbeddingManager at 0x13c9158e0>"
      ]
     },
     "execution_count": 11,
     "metadata": {},
     "output_type": "execute_result"
    }
   ],
   "source": [
    "embedding_manager = EmbeddingManager()\n",
    "embedding_manager"
   ]
  },
  {
   "cell_type": "code",
   "execution_count": 15,
   "id": "a8bfeb2e",
   "metadata": {},
   "outputs": [
    {
     "name": "stdout",
     "output_type": "stream",
     "text": [
      "Vector store initialized. Collection: pdf_documents\n",
      "Existing documents in collection: 0\n"
     ]
    },
    {
     "data": {
      "text/plain": [
       "<__main__.VectorStore at 0x13d880850>"
      ]
     },
     "execution_count": 15,
     "metadata": {},
     "output_type": "execute_result"
    }
   ],
   "source": [
    "class VectorStore:\n",
    "    \"\"\"Manages document embeddings in a ChromaDB vector store\"\"\"\n",
    "    \n",
    "    def __init__(self, collection_name: str = \"pdf_documents\", persist_directory: str = \"../data/vector_store\"):\n",
    "        \"\"\"\n",
    "        Initialize the vector store\n",
    "        \n",
    "        Args:\n",
    "            collection_name: Name of the ChromaDB collection\n",
    "            persist_directory: Directory to persist the vector store\n",
    "        \"\"\"\n",
    "        self.collection_name = collection_name\n",
    "        self.persist_directory = persist_directory\n",
    "        self.client = None\n",
    "        self.collection = None\n",
    "        self._initialize_store()\n",
    "\n",
    "    def _initialize_store(self):\n",
    "        \"\"\"Initialize ChromaDB client and collection\"\"\"\n",
    "        try:\n",
    "            # Create persistent ChromaDB client\n",
    "            os.makedirs(self.persist_directory, exist_ok=True)\n",
    "            self.client = chromadb.PersistentClient(path=self.persist_directory)\n",
    "            \n",
    "            # Get or create collection\n",
    "            self.collection = self.client.get_or_create_collection(\n",
    "                name=self.collection_name,\n",
    "                metadata={\"description\": \"PDF document embeddings for RAG\"}\n",
    "            )\n",
    "            print(f\"Vector store initialized. Collection: {self.collection_name}\")\n",
    "            print(f\"Existing documents in collection: {self.collection.count()}\")\n",
    "            \n",
    "        except Exception as e:\n",
    "            print(f\"Error initializing vector store: {e}\")\n",
    "            raise\n",
    "\n",
    "    def add_documents(self, documents: List[Any], embeddings: np.ndarray):\n",
    "        \"\"\"\n",
    "        Add documents and their embeddings to the vector store\n",
    "        \n",
    "        Args:\n",
    "            documents: List of LangChain documents\n",
    "            embeddings: Corresponding embeddings for the documents\n",
    "        \"\"\"\n",
    "        if len(documents) != len(embeddings):\n",
    "            raise ValueError(\"Number of documents must match number of embeddings\")\n",
    "        \n",
    "        print(f\"Adding {len(documents)} documents to vector store...\")\n",
    "        \n",
    "        # Prepare data for ChromaDB\n",
    "        ids = []\n",
    "        metadatas = []\n",
    "        documents_text = []\n",
    "        embeddings_list = []\n",
    "        \n",
    "        for i, (doc, embedding) in enumerate(zip(documents, embeddings)):\n",
    "            # Generate unique ID\n",
    "            doc_id = f\"doc_{uuid.uuid4().hex[:8]}_{i}\"\n",
    "            ids.append(doc_id)\n",
    "            \n",
    "            # Prepare metadata\n",
    "            metadata = dict(doc.metadata)\n",
    "            metadata['doc_index'] = i\n",
    "            metadata['content_length'] = len(doc.page_content)\n",
    "            metadatas.append(metadata)\n",
    "            \n",
    "            # Document content\n",
    "            documents_text.append(doc.page_content)\n",
    "            \n",
    "            # Embedding\n",
    "            embeddings_list.append(embedding.tolist())\n",
    "        \n",
    "        # Add to collection\n",
    "        try:\n",
    "            self.collection.add(\n",
    "                ids=ids,\n",
    "                embeddings=embeddings_list,\n",
    "                metadatas=metadatas,\n",
    "                documents=documents_text\n",
    "            )\n",
    "            print(f\"Successfully added {len(documents)} documents to vector store\")\n",
    "            print(f\"Total documents in collection: {self.collection.count()}\")\n",
    "            \n",
    "        except Exception as e:\n",
    "            print(f\"Error adding documents to vector store: {e}\")\n",
    "            raise\n",
    "\n",
    "vectorstore=VectorStore()\n",
    "vectorstore"
   ]
  },
  {
   "cell_type": "code",
   "execution_count": 22,
   "id": "0b9f6da8",
   "metadata": {},
   "outputs": [],
   "source": [
    "chunks = split_docs"
   ]
  },
  {
   "cell_type": "code",
   "execution_count": 23,
   "id": "dca8b2f1",
   "metadata": {},
   "outputs": [
    {
     "name": "stderr",
     "output_type": "stream",
     "text": [
      "Batches: 100%|██████████| 1/1 [00:02<00:00,  2.18s/it]"
     ]
    },
    {
     "name": "stdout",
     "output_type": "stream",
     "text": [
      "shape of embeddings (31, 384)\n",
      "Adding 31 documents to vector store...\n",
      "Successfully added 31 documents to vector store\n",
      "Total documents in collection: 31\n"
     ]
    },
    {
     "name": "stderr",
     "output_type": "stream",
     "text": [
      "\n"
     ]
    }
   ],
   "source": [
    "## Converting the text to embeddings\n",
    "\n",
    "texts = [chunk.page_content for chunk in chunks]\n",
    "\n",
    "embeddings = embedding_manager.generate_embeddings(texts)\n",
    "vectorstore.add_documents(chunks, embeddings)"
   ]
  },
  {
   "cell_type": "code",
   "execution_count": null,
   "id": "a28e1770",
   "metadata": {},
   "outputs": [],
   "source": []
  }
 ],
 "metadata": {
  "kernelspec": {
   "display_name": "Python 3",
   "language": "python",
   "name": "python3"
  },
  "language_info": {
   "codemirror_mode": {
    "name": "ipython",
    "version": 3
   },
   "file_extension": ".py",
   "mimetype": "text/x-python",
   "name": "python",
   "nbconvert_exporter": "python",
   "pygments_lexer": "ipython3",
   "version": "3.9.6"
  }
 },
 "nbformat": 4,
 "nbformat_minor": 5
}
