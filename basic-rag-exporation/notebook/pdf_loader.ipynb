{
 "cells": [
  {
   "cell_type": "code",
   "execution_count": 79,
   "id": "4a904354",
   "metadata": {},
   "outputs": [],
   "source": [
    "from langchain_core.documents import Document\n",
    "from langchain.document_loaders import PyPDFLoader, DirectoryLoader, PyMuPDFLoader\n",
    "from langchain.text_splitter import RecursiveCharacterTextSplitter"
   ]
  },
  {
   "cell_type": "code",
   "execution_count": 80,
   "id": "113b2261",
   "metadata": {},
   "outputs": [
    {
     "data": {
      "text/plain": [
       "[Document(metadata={'producer': 'pdfTeX-1.40.26', 'creator': 'LaTeX with hyperref', 'creationdate': '2025-08-12T09:48:22+00:00', 'source': '../data/pdf_files/ShrivatsaSaankhya_Env_Resume.pdf', 'file_path': '../data/pdf_files/ShrivatsaSaankhya_Env_Resume.pdf', 'total_pages': 1, 'format': 'PDF 1.5', 'title': '', 'author': '', 'subject': '', 'keywords': '', 'moddate': '2025-08-12T09:48:22+00:00', 'trapped': '', 'modDate': 'D:20250812094822Z', 'creationDate': 'D:20250812094822Z', 'page': 0}, page_content='Saankhya Shrivatsa\\n+1 (619) 415-3843 | shrivatsaankhya.bus@gmail.com | linkedin.com/in/saankhya-shrivatsa |\\nEducation\\nUniversity of California San Diego\\nSan Diego, CA\\nBachelor of Science in Global Health; Minor in Computational Social Sciences\\nSept. 2022 – December 2025\\nInventure Academy\\nBangalore, India\\nHigh School Diploma; 5 CAIE AS/A Levels including Physics, Chemistry, Math, and Biology\\nMay 2020 – June 2022\\nExperience\\nResearch Assistant – Climate Epidemiology\\nJune 2024 – Present\\nCARE Lab; Herbert Wertheim School of Public Health\\nSan Diego, CA\\n• Lead researcher on a global systematic literature review assessing integration of disability justice into climate action,\\nmitigation, and adaptation plans; developing a redefined disability framework through a climate change lens and adapting\\nUN CRPD principles for climate policy contexts\\n• Collaborating with the Ministry of Health in Jordan to investigate associations between extreme weather events, climate\\nchange, and diarrheal disease incidence\\n• Conduct environmental and epidemiological data collection, management, and statistical analysis using Excel and other tools;\\nsynthesize findings into technical reports for publication\\n• Coordinate multi-institutional project teams, ensuring adherence to timelines, research protocols, and safety standards.\\nResearch Assistant – Molecular Genetics in Hepatology\\nOct. 2023 – June 2024\\nOlefsky Lab, UC San Diego School of Medicine\\nSan Diego, CA\\n• Conducted experimental analysis to evaluate genetic factors influencing liver disease, applying quantitative methods\\ncomparable to toxicological dose–response assessments\\n• Executed RNA extraction, genotyping, PCR, and qPCR to measure expression differences in TM7 gene variants, identifying\\npotential biomarkers for early disease detection\\n• Documented laboratory protocols and analytical results in compliance with institutional quality assurance standards,\\nsupporting reproducibility and regulatory review readiness.\\nSelected Projects\\nBangladesh Flood Adaptation Study – Independent Researcher: Designed a mixed-methods study, including a\\nrandomized experiment, to evaluate disability-inclusive policies in Bangladesh’s national adaptation plan and their impact on\\ndisaster relief outcomes for people with disabilities\\nDisability incidence and PM2.5 trends – Independent Researcher: Created an online reserve of maps tracking trends in\\nspread of PM2.5 following wildfires and analyzed trends in related ER admission data\\nTechnical Skills\\nField & Environmental Data Skills: Environmental data collection, literature screening, systematic review methodology,\\nsoil/water sampling (academic projects), hazard recognition principles\\nAnalysis & Reporting: Microsoft Excel, technical report writing, data management, statistical analysis\\nPublic Health Methods: Sampling design, population health assessment, health communication strategies\\nLeadership and Involvement\\nVice President- Internal\\nMay 2024 – Present\\nSociety for Immigrant and Refugee Health (UCSDSIRH)\\nSan Diego, CA\\n• Lead conversations on immigrant and refugee health through targeted clinic drives, tutoring, and other forms of community\\ninvolvement\\n• Head of the Newsletter Committee aimed at delivering information about the club’s past and future events with spotlight\\npieces on pertinent immigrant/refugee health topics\\n• Launched the organization’s first ever guest speaker series, inviting UCSD faculty and experts to discuss critical healthcare\\ndisparities in immigrant and refugee health\\n• Represent UCSD at immigrant/refugee health conferences and work with renowned experts in the field on awareness events\\nGeneral Health Cohort Lead\\nApril 2024 – Present\\nStudent Health Advocates (SHA)\\nSan Diego, CA\\n• Contribute to the promotion of student health through comprehensive health assessments, identifying key areas for\\nimprovement within the campus community\\n• Facilitate educational workshops and create media content on essential health topics, including nutrition, healthy meal\\nplanning, and stress management, aimed at fostering healthier lifestyle choices among students\\n• Organize and lead general health awareness campaigns, engaging the student body in preventative health strategies and\\npromoting a culture of wellness on campus'),\n",
       " Document(metadata={'producer': 'pdfTeX-1.40.26', 'creator': 'LaTeX with hyperref', 'creationdate': '2025-09-17T23:16:25+00:00', 'source': '../data/pdf_files/Resume_Shree_G.pdf', 'file_path': '../data/pdf_files/Resume_Shree_G.pdf', 'total_pages': 1, 'format': 'PDF 1.5', 'title': '', 'author': '', 'subject': '', 'keywords': '', 'moddate': '2025-09-17T23:16:25+00:00', 'trapped': '', 'modDate': 'D:20250917231625Z', 'creationDate': 'D:20250917231625Z', 'page': 0}, page_content='Shree Gopalakrishnan\\n858-761-2827 | shree.hridai@gmail.com | Linkedin: shree-gk W | Github: Shree-G W\\nFull Stack Engineer with a track record of taking products from idea to production. My experience ranges from building an\\naward-winning IoT hardware MVP to deploying a scalable, full-stack AI analytics platform that boosted sales conversion.\\nCurrently looking to join a company where I can apply my AI and full stack expertise to build end-to-end systems that\\nsolve complex challenges and ship features that actually help people.\\nTechnical Skills\\nLanguages & Frameworks: JavaScript (ES6+), TypeScript, Python, SQL, React.js, Next.js, FastAPI, Node.js, Prisma\\nFrontend Tools: Tailwind CSS, ShadCN, Styled Components, HTML, Framer Motion, D3\\nBackend & Data: Google BigQuery, PostgreSQL, Redis, RESTful API, ETL / ETL Processes, Docker, Websockets\\nAI/Data Science: Scikit-learn, Pandas, NumPy, K-Means Clustering, OpenAI API, Hugging Face\\nCloud & DevOps: GCP (Cloud Functions, Cloud Run), AWS (S3, Lambda), Vercel, GitHub Actions, Neon\\nOther Tools: Git, Looker Studio, Playwright, Agile Development, Full-Stack Architecture\\nExperience\\nFull Stack Engineer\\nJuly 2025 – Present\\niFrog Marketing Solutions W\\n• Built a scalable data pipeline to process 200,000+ dealer records from a third-party API into Google BigQuery.\\n• Designed a full stack AI dashboard to provide real-time customer segmentation and lead scoring for 67 dealerships.\\n• Launched the platform to all dealership stakeholders, resulting in a 15% increase in ad sales conversion rates.\\nSoftware Engineering Intern\\nMay 2024 – Aug 2024\\nMercury Alert AI W\\n• Improved user dashboard load times by 40% for 300+ devices by optimizing patient-safety analytics functions.\\n• Architected 15+ relational schemas and refactored 10+ front end components for NoSQL to PostgreSQL migration.\\nMachine Learning Intern\\nJun 2024 – Oct 2024\\nServiceMob W\\n• Built a weekly call volume forecaster, achieving 9% MAPE to improve staffing decisions for 500+ support agents.\\n• Deployed forecasting API inside consumer-side web app accessed real-time by 5+ call-center agencies.\\nMachine Learning Intern\\nJun 2022 – Aug 2022\\nPoint Perfect Technology Solutions W\\n• Built a KNN-based resume classifier, that classified over 450+ resumes (and counting!) into best-fit jobs.\\n• Deployed the classifier as a REST API and integrated it with an internal HR tool to cut time-to-hire by 30%.\\nProjects\\nShrocial Media W | Next.js, Node.js, App Router, TypeScript, PostgreSQL, Prisma, Tailwind CSS, ShadCN, Neon, Clerk\\n• Developed a full-stack social app using Next.js with server-side rendering and 15+ dynamic/static routes.\\n• Integrated Neon Database with PostgreSQL and Prisma ORM, creating 10+ route handlers for API responses.\\n• Designed a responsive UI with Tailwind CSS for consistent styling and dynamic layouts for 4 screen sizes.\\nRestaurant Ordering System W | Full Stack Development, IoT, Real-Time Systems, MVP development\\n• Built a web-based order accuracy system using Raspberry Pi, reducing simulated errors by 35% in restaurants.\\n• Designed and fabricated a 3D-modeled wooden enclosure to house a touchscreen, battery, and Raspberry Pi.\\n• Implemented real-time tracking to process 10+ concurrent orders with <1s latency and haptic feedback.\\n• Won 2nd place among 20+ teams in UCSD’s MVP competition for technical innovation and hands-on engineering.\\nEducation\\nUniversity of California, San Diego\\nSep 2021 – Jun 2025\\nB.S. in Computer Science\\n• Relevant Coursework: Advanced Data Structures in Java, Design and Analysis of Algorithms, Deep Learning')]"
      ]
     },
     "execution_count": 80,
     "metadata": {},
     "output_type": "execute_result"
    }
   ],
   "source": [
    "dir_loader = DirectoryLoader(\"../data/pdf_files\", glob=\"*.pdf\", loader_cls=PyMuPDFLoader)\n",
    "documents = dir_loader.load()\n",
    "documents"
   ]
  },
  {
   "cell_type": "code",
   "execution_count": 81,
   "id": "90a40e65",
   "metadata": {},
   "outputs": [
    {
     "data": {
      "text/plain": [
       "[Document(metadata={'producer': 'pdfTeX-1.40.26', 'creator': 'LaTeX with hyperref', 'creationdate': '2025-08-12T09:48:22+00:00', 'source': '../data/pdf_files/ShrivatsaSaankhya_Env_Resume.pdf', 'file_path': '../data/pdf_files/ShrivatsaSaankhya_Env_Resume.pdf', 'total_pages': 1, 'format': 'PDF 1.5', 'title': '', 'author': '', 'subject': '', 'keywords': '', 'moddate': '2025-08-12T09:48:22+00:00', 'trapped': '', 'modDate': 'D:20250812094822Z', 'creationDate': 'D:20250812094822Z', 'page': 0}, page_content='Saankhya Shrivatsa\\n+1 (619) 415-3843 | shrivatsaankhya.bus@gmail.com | linkedin.com/in/saankhya-shrivatsa |\\nEducation\\nUniversity of California San Diego\\nSan Diego, CA\\nBachelor of Science in Global Health; Minor in Computational Social Sciences\\nSept. 2022 – December 2025\\nInventure Academy\\nBangalore, India\\nHigh School Diploma; 5 CAIE AS/A Levels including Physics, Chemistry, Math, and Biology\\nMay 2020 – June 2022\\nExperience\\nResearch Assistant – Climate Epidemiology\\nJune 2024 – Present'),\n",
       " Document(metadata={'producer': 'pdfTeX-1.40.26', 'creator': 'LaTeX with hyperref', 'creationdate': '2025-08-12T09:48:22+00:00', 'source': '../data/pdf_files/ShrivatsaSaankhya_Env_Resume.pdf', 'file_path': '../data/pdf_files/ShrivatsaSaankhya_Env_Resume.pdf', 'total_pages': 1, 'format': 'PDF 1.5', 'title': '', 'author': '', 'subject': '', 'keywords': '', 'moddate': '2025-08-12T09:48:22+00:00', 'trapped': '', 'modDate': 'D:20250812094822Z', 'creationDate': 'D:20250812094822Z', 'page': 0}, page_content='June 2024 – Present\\nCARE Lab; Herbert Wertheim School of Public Health\\nSan Diego, CA\\n• Lead researcher on a global systematic literature review assessing integration of disability justice into climate action,\\nmitigation, and adaptation plans; developing a redefined disability framework through a climate change lens and adapting\\nUN CRPD principles for climate policy contexts\\n• Collaborating with the Ministry of Health in Jordan to investigate associations between extreme weather events, climate'),\n",
       " Document(metadata={'producer': 'pdfTeX-1.40.26', 'creator': 'LaTeX with hyperref', 'creationdate': '2025-08-12T09:48:22+00:00', 'source': '../data/pdf_files/ShrivatsaSaankhya_Env_Resume.pdf', 'file_path': '../data/pdf_files/ShrivatsaSaankhya_Env_Resume.pdf', 'total_pages': 1, 'format': 'PDF 1.5', 'title': '', 'author': '', 'subject': '', 'keywords': '', 'moddate': '2025-08-12T09:48:22+00:00', 'trapped': '', 'modDate': 'D:20250812094822Z', 'creationDate': 'D:20250812094822Z', 'page': 0}, page_content='change, and diarrheal disease incidence\\n• Conduct environmental and epidemiological data collection, management, and statistical analysis using Excel and other tools;\\nsynthesize findings into technical reports for publication\\n• Coordinate multi-institutional project teams, ensuring adherence to timelines, research protocols, and safety standards.\\nResearch Assistant – Molecular Genetics in Hepatology\\nOct. 2023 – June 2024\\nOlefsky Lab, UC San Diego School of Medicine\\nSan Diego, CA'),\n",
       " Document(metadata={'producer': 'pdfTeX-1.40.26', 'creator': 'LaTeX with hyperref', 'creationdate': '2025-08-12T09:48:22+00:00', 'source': '../data/pdf_files/ShrivatsaSaankhya_Env_Resume.pdf', 'file_path': '../data/pdf_files/ShrivatsaSaankhya_Env_Resume.pdf', 'total_pages': 1, 'format': 'PDF 1.5', 'title': '', 'author': '', 'subject': '', 'keywords': '', 'moddate': '2025-08-12T09:48:22+00:00', 'trapped': '', 'modDate': 'D:20250812094822Z', 'creationDate': 'D:20250812094822Z', 'page': 0}, page_content='San Diego, CA\\n• Conducted experimental analysis to evaluate genetic factors influencing liver disease, applying quantitative methods\\ncomparable to toxicological dose–response assessments\\n• Executed RNA extraction, genotyping, PCR, and qPCR to measure expression differences in TM7 gene variants, identifying\\npotential biomarkers for early disease detection\\n• Documented laboratory protocols and analytical results in compliance with institutional quality assurance standards,'),\n",
       " Document(metadata={'producer': 'pdfTeX-1.40.26', 'creator': 'LaTeX with hyperref', 'creationdate': '2025-08-12T09:48:22+00:00', 'source': '../data/pdf_files/ShrivatsaSaankhya_Env_Resume.pdf', 'file_path': '../data/pdf_files/ShrivatsaSaankhya_Env_Resume.pdf', 'total_pages': 1, 'format': 'PDF 1.5', 'title': '', 'author': '', 'subject': '', 'keywords': '', 'moddate': '2025-08-12T09:48:22+00:00', 'trapped': '', 'modDate': 'D:20250812094822Z', 'creationDate': 'D:20250812094822Z', 'page': 0}, page_content='supporting reproducibility and regulatory review readiness.\\nSelected Projects\\nBangladesh Flood Adaptation Study – Independent Researcher: Designed a mixed-methods study, including a\\nrandomized experiment, to evaluate disability-inclusive policies in Bangladesh’s national adaptation plan and their impact on\\ndisaster relief outcomes for people with disabilities\\nDisability incidence and PM2.5 trends – Independent Researcher: Created an online reserve of maps tracking trends in'),\n",
       " Document(metadata={'producer': 'pdfTeX-1.40.26', 'creator': 'LaTeX with hyperref', 'creationdate': '2025-08-12T09:48:22+00:00', 'source': '../data/pdf_files/ShrivatsaSaankhya_Env_Resume.pdf', 'file_path': '../data/pdf_files/ShrivatsaSaankhya_Env_Resume.pdf', 'total_pages': 1, 'format': 'PDF 1.5', 'title': '', 'author': '', 'subject': '', 'keywords': '', 'moddate': '2025-08-12T09:48:22+00:00', 'trapped': '', 'modDate': 'D:20250812094822Z', 'creationDate': 'D:20250812094822Z', 'page': 0}, page_content='spread of PM2.5 following wildfires and analyzed trends in related ER admission data\\nTechnical Skills\\nField & Environmental Data Skills: Environmental data collection, literature screening, systematic review methodology,\\nsoil/water sampling (academic projects), hazard recognition principles\\nAnalysis & Reporting: Microsoft Excel, technical report writing, data management, statistical analysis\\nPublic Health Methods: Sampling design, population health assessment, health communication strategies'),\n",
       " Document(metadata={'producer': 'pdfTeX-1.40.26', 'creator': 'LaTeX with hyperref', 'creationdate': '2025-08-12T09:48:22+00:00', 'source': '../data/pdf_files/ShrivatsaSaankhya_Env_Resume.pdf', 'file_path': '../data/pdf_files/ShrivatsaSaankhya_Env_Resume.pdf', 'total_pages': 1, 'format': 'PDF 1.5', 'title': '', 'author': '', 'subject': '', 'keywords': '', 'moddate': '2025-08-12T09:48:22+00:00', 'trapped': '', 'modDate': 'D:20250812094822Z', 'creationDate': 'D:20250812094822Z', 'page': 0}, page_content='Leadership and Involvement\\nVice President- Internal\\nMay 2024 – Present\\nSociety for Immigrant and Refugee Health (UCSDSIRH)\\nSan Diego, CA\\n• Lead conversations on immigrant and refugee health through targeted clinic drives, tutoring, and other forms of community\\ninvolvement\\n• Head of the Newsletter Committee aimed at delivering information about the club’s past and future events with spotlight\\npieces on pertinent immigrant/refugee health topics'),\n",
       " Document(metadata={'producer': 'pdfTeX-1.40.26', 'creator': 'LaTeX with hyperref', 'creationdate': '2025-08-12T09:48:22+00:00', 'source': '../data/pdf_files/ShrivatsaSaankhya_Env_Resume.pdf', 'file_path': '../data/pdf_files/ShrivatsaSaankhya_Env_Resume.pdf', 'total_pages': 1, 'format': 'PDF 1.5', 'title': '', 'author': '', 'subject': '', 'keywords': '', 'moddate': '2025-08-12T09:48:22+00:00', 'trapped': '', 'modDate': 'D:20250812094822Z', 'creationDate': 'D:20250812094822Z', 'page': 0}, page_content='• Launched the organization’s first ever guest speaker series, inviting UCSD faculty and experts to discuss critical healthcare\\ndisparities in immigrant and refugee health\\n• Represent UCSD at immigrant/refugee health conferences and work with renowned experts in the field on awareness events\\nGeneral Health Cohort Lead\\nApril 2024 – Present\\nStudent Health Advocates (SHA)\\nSan Diego, CA'),\n",
       " Document(metadata={'producer': 'pdfTeX-1.40.26', 'creator': 'LaTeX with hyperref', 'creationdate': '2025-08-12T09:48:22+00:00', 'source': '../data/pdf_files/ShrivatsaSaankhya_Env_Resume.pdf', 'file_path': '../data/pdf_files/ShrivatsaSaankhya_Env_Resume.pdf', 'total_pages': 1, 'format': 'PDF 1.5', 'title': '', 'author': '', 'subject': '', 'keywords': '', 'moddate': '2025-08-12T09:48:22+00:00', 'trapped': '', 'modDate': 'D:20250812094822Z', 'creationDate': 'D:20250812094822Z', 'page': 0}, page_content='Student Health Advocates (SHA)\\nSan Diego, CA\\n• Contribute to the promotion of student health through comprehensive health assessments, identifying key areas for\\nimprovement within the campus community\\n• Facilitate educational workshops and create media content on essential health topics, including nutrition, healthy meal\\nplanning, and stress management, aimed at fostering healthier lifestyle choices among students'),\n",
       " Document(metadata={'producer': 'pdfTeX-1.40.26', 'creator': 'LaTeX with hyperref', 'creationdate': '2025-08-12T09:48:22+00:00', 'source': '../data/pdf_files/ShrivatsaSaankhya_Env_Resume.pdf', 'file_path': '../data/pdf_files/ShrivatsaSaankhya_Env_Resume.pdf', 'total_pages': 1, 'format': 'PDF 1.5', 'title': '', 'author': '', 'subject': '', 'keywords': '', 'moddate': '2025-08-12T09:48:22+00:00', 'trapped': '', 'modDate': 'D:20250812094822Z', 'creationDate': 'D:20250812094822Z', 'page': 0}, page_content='• Organize and lead general health awareness campaigns, engaging the student body in preventative health strategies and\\npromoting a culture of wellness on campus'),\n",
       " Document(metadata={'producer': 'pdfTeX-1.40.26', 'creator': 'LaTeX with hyperref', 'creationdate': '2025-09-17T23:16:25+00:00', 'source': '../data/pdf_files/Resume_Shree_G.pdf', 'file_path': '../data/pdf_files/Resume_Shree_G.pdf', 'total_pages': 1, 'format': 'PDF 1.5', 'title': '', 'author': '', 'subject': '', 'keywords': '', 'moddate': '2025-09-17T23:16:25+00:00', 'trapped': '', 'modDate': 'D:20250917231625Z', 'creationDate': 'D:20250917231625Z', 'page': 0}, page_content='Shree Gopalakrishnan\\n858-761-2827 | shree.hridai@gmail.com | Linkedin: shree-gk W | Github: Shree-G W\\nFull Stack Engineer with a track record of taking products from idea to production. My experience ranges from building an\\naward-winning IoT hardware MVP to deploying a scalable, full-stack AI analytics platform that boosted sales conversion.\\nCurrently looking to join a company where I can apply my AI and full stack expertise to build end-to-end systems that'),\n",
       " Document(metadata={'producer': 'pdfTeX-1.40.26', 'creator': 'LaTeX with hyperref', 'creationdate': '2025-09-17T23:16:25+00:00', 'source': '../data/pdf_files/Resume_Shree_G.pdf', 'file_path': '../data/pdf_files/Resume_Shree_G.pdf', 'total_pages': 1, 'format': 'PDF 1.5', 'title': '', 'author': '', 'subject': '', 'keywords': '', 'moddate': '2025-09-17T23:16:25+00:00', 'trapped': '', 'modDate': 'D:20250917231625Z', 'creationDate': 'D:20250917231625Z', 'page': 0}, page_content='solve complex challenges and ship features that actually help people.\\nTechnical Skills\\nLanguages & Frameworks: JavaScript (ES6+), TypeScript, Python, SQL, React.js, Next.js, FastAPI, Node.js, Prisma\\nFrontend Tools: Tailwind CSS, ShadCN, Styled Components, HTML, Framer Motion, D3\\nBackend & Data: Google BigQuery, PostgreSQL, Redis, RESTful API, ETL / ETL Processes, Docker, Websockets\\nAI/Data Science: Scikit-learn, Pandas, NumPy, K-Means Clustering, OpenAI API, Hugging Face'),\n",
       " Document(metadata={'producer': 'pdfTeX-1.40.26', 'creator': 'LaTeX with hyperref', 'creationdate': '2025-09-17T23:16:25+00:00', 'source': '../data/pdf_files/Resume_Shree_G.pdf', 'file_path': '../data/pdf_files/Resume_Shree_G.pdf', 'total_pages': 1, 'format': 'PDF 1.5', 'title': '', 'author': '', 'subject': '', 'keywords': '', 'moddate': '2025-09-17T23:16:25+00:00', 'trapped': '', 'modDate': 'D:20250917231625Z', 'creationDate': 'D:20250917231625Z', 'page': 0}, page_content='Cloud & DevOps: GCP (Cloud Functions, Cloud Run), AWS (S3, Lambda), Vercel, GitHub Actions, Neon\\nOther Tools: Git, Looker Studio, Playwright, Agile Development, Full-Stack Architecture\\nExperience\\nFull Stack Engineer\\nJuly 2025 – Present\\niFrog Marketing Solutions W\\n• Built a scalable data pipeline to process 200,000+ dealer records from a third-party API into Google BigQuery.\\n• Designed a full stack AI dashboard to provide real-time customer segmentation and lead scoring for 67 dealerships.'),\n",
       " Document(metadata={'producer': 'pdfTeX-1.40.26', 'creator': 'LaTeX with hyperref', 'creationdate': '2025-09-17T23:16:25+00:00', 'source': '../data/pdf_files/Resume_Shree_G.pdf', 'file_path': '../data/pdf_files/Resume_Shree_G.pdf', 'total_pages': 1, 'format': 'PDF 1.5', 'title': '', 'author': '', 'subject': '', 'keywords': '', 'moddate': '2025-09-17T23:16:25+00:00', 'trapped': '', 'modDate': 'D:20250917231625Z', 'creationDate': 'D:20250917231625Z', 'page': 0}, page_content='• Launched the platform to all dealership stakeholders, resulting in a 15% increase in ad sales conversion rates.\\nSoftware Engineering Intern\\nMay 2024 – Aug 2024\\nMercury Alert AI W\\n• Improved user dashboard load times by 40% for 300+ devices by optimizing patient-safety analytics functions.\\n• Architected 15+ relational schemas and refactored 10+ front end components for NoSQL to PostgreSQL migration.\\nMachine Learning Intern\\nJun 2024 – Oct 2024\\nServiceMob W'),\n",
       " Document(metadata={'producer': 'pdfTeX-1.40.26', 'creator': 'LaTeX with hyperref', 'creationdate': '2025-09-17T23:16:25+00:00', 'source': '../data/pdf_files/Resume_Shree_G.pdf', 'file_path': '../data/pdf_files/Resume_Shree_G.pdf', 'total_pages': 1, 'format': 'PDF 1.5', 'title': '', 'author': '', 'subject': '', 'keywords': '', 'moddate': '2025-09-17T23:16:25+00:00', 'trapped': '', 'modDate': 'D:20250917231625Z', 'creationDate': 'D:20250917231625Z', 'page': 0}, page_content='Jun 2024 – Oct 2024\\nServiceMob W\\n• Built a weekly call volume forecaster, achieving 9% MAPE to improve staffing decisions for 500+ support agents.\\n• Deployed forecasting API inside consumer-side web app accessed real-time by 5+ call-center agencies.\\nMachine Learning Intern\\nJun 2022 – Aug 2022\\nPoint Perfect Technology Solutions W\\n• Built a KNN-based resume classifier, that classified over 450+ resumes (and counting!) into best-fit jobs.'),\n",
       " Document(metadata={'producer': 'pdfTeX-1.40.26', 'creator': 'LaTeX with hyperref', 'creationdate': '2025-09-17T23:16:25+00:00', 'source': '../data/pdf_files/Resume_Shree_G.pdf', 'file_path': '../data/pdf_files/Resume_Shree_G.pdf', 'total_pages': 1, 'format': 'PDF 1.5', 'title': '', 'author': '', 'subject': '', 'keywords': '', 'moddate': '2025-09-17T23:16:25+00:00', 'trapped': '', 'modDate': 'D:20250917231625Z', 'creationDate': 'D:20250917231625Z', 'page': 0}, page_content='• Deployed the classifier as a REST API and integrated it with an internal HR tool to cut time-to-hire by 30%.\\nProjects\\nShrocial Media W | Next.js, Node.js, App Router, TypeScript, PostgreSQL, Prisma, Tailwind CSS, ShadCN, Neon, Clerk\\n• Developed a full-stack social app using Next.js with server-side rendering and 15+ dynamic/static routes.\\n• Integrated Neon Database with PostgreSQL and Prisma ORM, creating 10+ route handlers for API responses.'),\n",
       " Document(metadata={'producer': 'pdfTeX-1.40.26', 'creator': 'LaTeX with hyperref', 'creationdate': '2025-09-17T23:16:25+00:00', 'source': '../data/pdf_files/Resume_Shree_G.pdf', 'file_path': '../data/pdf_files/Resume_Shree_G.pdf', 'total_pages': 1, 'format': 'PDF 1.5', 'title': '', 'author': '', 'subject': '', 'keywords': '', 'moddate': '2025-09-17T23:16:25+00:00', 'trapped': '', 'modDate': 'D:20250917231625Z', 'creationDate': 'D:20250917231625Z', 'page': 0}, page_content='• Designed a responsive UI with Tailwind CSS for consistent styling and dynamic layouts for 4 screen sizes.\\nRestaurant Ordering System W | Full Stack Development, IoT, Real-Time Systems, MVP development\\n• Built a web-based order accuracy system using Raspberry Pi, reducing simulated errors by 35% in restaurants.\\n• Designed and fabricated a 3D-modeled wooden enclosure to house a touchscreen, battery, and Raspberry Pi.'),\n",
       " Document(metadata={'producer': 'pdfTeX-1.40.26', 'creator': 'LaTeX with hyperref', 'creationdate': '2025-09-17T23:16:25+00:00', 'source': '../data/pdf_files/Resume_Shree_G.pdf', 'file_path': '../data/pdf_files/Resume_Shree_G.pdf', 'total_pages': 1, 'format': 'PDF 1.5', 'title': '', 'author': '', 'subject': '', 'keywords': '', 'moddate': '2025-09-17T23:16:25+00:00', 'trapped': '', 'modDate': 'D:20250917231625Z', 'creationDate': 'D:20250917231625Z', 'page': 0}, page_content='• Implemented real-time tracking to process 10+ concurrent orders with <1s latency and haptic feedback.\\n• Won 2nd place among 20+ teams in UCSD’s MVP competition for technical innovation and hands-on engineering.\\nEducation\\nUniversity of California, San Diego\\nSep 2021 – Jun 2025\\nB.S. in Computer Science\\n• Relevant Coursework: Advanced Data Structures in Java, Design and Analysis of Algorithms, Deep Learning')]"
      ]
     },
     "execution_count": 81,
     "metadata": {},
     "output_type": "execute_result"
    }
   ],
   "source": [
    "# Text Splitting\n",
    "\n",
    "def split_documents(documents, chunk_size=500, chunk_overlap=50):\n",
    "    text_splitter = RecursiveCharacterTextSplitter(\n",
    "        chunk_size=chunk_size,\n",
    "        chunk_overlap=chunk_overlap,\n",
    "        length_function=len,\n",
    "        separators=[\"\\n\\n\", \"\\n\", \" \", \"\"]\n",
    "\n",
    "    )\n",
    "    return text_splitter.split_documents(documents)\n",
    "\n",
    "split_docs = split_documents(documents)\n",
    "split_docs"
   ]
  },
  {
   "cell_type": "code",
   "execution_count": 82,
   "id": "1fe9b04f",
   "metadata": {},
   "outputs": [],
   "source": [
    "import numpy as np\n",
    "import os\n",
    "from sentence_transformers import SentenceTransformer\n",
    "import chromadb\n",
    "from chromadb.config import Settings\n",
    "import uuid\n",
    "from typing import List, Dict, Any, Tuple\n",
    "from sklearn.metrics.pairwise import cosine_similarity"
   ]
  },
  {
   "cell_type": "code",
   "execution_count": 83,
   "id": "0b0e1f23",
   "metadata": {},
   "outputs": [],
   "source": [
    "class EmbeddingManager:\n",
    "    def __init__(self, model_name: str = \"all-MiniLM-L6-v2\"):\n",
    "        self.model_name = model_name\n",
    "        self.model = None\n",
    "        self._load_model() # calls the private method to load the model\n",
    "\n",
    "    def _load_model(self):\n",
    "        try:\n",
    "            self.model = SentenceTransformer(self.model_name)\n",
    "            print(f\"Embedding dimension: {self.model.get_sentence_embedding_dimension()}\")\n",
    "        except Exception as e:\n",
    "            print(f\"Error loading model: {self.model_name}. Error: {e}\")\n",
    "            raise\n",
    "\n",
    "    def generate_embeddings(self, texts : list[str]) -> np.ndarray:\n",
    "        if not self.model:\n",
    "            raise ValueError(\"Model not selected.\")\n",
    "\n",
    "        embeddings = self.model.encode(texts, show_progress_bar=True)\n",
    "        print(f\"shape of embeddings {embeddings.shape}\")\n",
    "        return embeddings"
   ]
  },
  {
   "cell_type": "code",
   "execution_count": 84,
   "id": "80f925be",
   "metadata": {},
   "outputs": [
    {
     "name": "stdout",
     "output_type": "stream",
     "text": [
      "Embedding dimension: 384\n"
     ]
    },
    {
     "data": {
      "text/plain": [
       "<__main__.EmbeddingManager at 0x147f2a130>"
      ]
     },
     "execution_count": 84,
     "metadata": {},
     "output_type": "execute_result"
    }
   ],
   "source": [
    "embedding_manager = EmbeddingManager()\n",
    "embedding_manager"
   ]
  },
  {
   "cell_type": "code",
   "execution_count": 85,
   "id": "a8bfeb2e",
   "metadata": {},
   "outputs": [
    {
     "name": "stdout",
     "output_type": "stream",
     "text": [
      "Vector store initialized. Collection: pdf_documents\n",
      "Existing documents in collection: 0\n"
     ]
    },
    {
     "data": {
      "text/plain": [
       "<__main__.VectorStore at 0x147f45ee0>"
      ]
     },
     "execution_count": 85,
     "metadata": {},
     "output_type": "execute_result"
    }
   ],
   "source": [
    "class VectorStore:\n",
    "    \"\"\"Manages document embeddings in a ChromaDB vector store\"\"\"\n",
    "    \n",
    "    def __init__(self, collection_name: str = \"pdf_documents\", persist_directory: str = \"../data/vector_store\"):\n",
    "        \"\"\"\n",
    "        Initialize the vector store\n",
    "        \n",
    "        Args:\n",
    "            collection_name: Name of the ChromaDB collection\n",
    "            persist_directory: Directory to persist the vector store\n",
    "        \"\"\"\n",
    "        self.collection_name = collection_name\n",
    "        self.persist_directory = persist_directory\n",
    "        self.client = None\n",
    "        self.collection = None\n",
    "        self._initialize_store()\n",
    "\n",
    "    def _initialize_store(self):\n",
    "        \"\"\"Initialize ChromaDB client and collection\"\"\"\n",
    "        try:\n",
    "            # Create persistent ChromaDB client\n",
    "            os.makedirs(self.persist_directory, exist_ok=True)\n",
    "            self.client = chromadb.PersistentClient(path=self.persist_directory)\n",
    "            \n",
    "            # Get or create collection\n",
    "            self.collection = self.client.get_or_create_collection(\n",
    "                name=self.collection_name,\n",
    "                metadata={\"description\": \"PDF document embeddings for RAG\"}\n",
    "            )\n",
    "            print(f\"Vector store initialized. Collection: {self.collection_name}\")\n",
    "            print(f\"Existing documents in collection: {self.collection.count()}\")\n",
    "            \n",
    "        except Exception as e:\n",
    "            print(f\"Error initializing vector store: {e}\")\n",
    "            raise\n",
    "\n",
    "    def add_documents(self, documents: List[Any], embeddings: np.ndarray):\n",
    "        \"\"\"\n",
    "        Add documents and their embeddings to the vector store\n",
    "        \n",
    "        Args:\n",
    "            documents: List of LangChain documents\n",
    "            embeddings: Corresponding embeddings for the documents\n",
    "        \"\"\"\n",
    "        if len(documents) != len(embeddings):\n",
    "            raise ValueError(\"Number of documents must match number of embeddings\")\n",
    "        \n",
    "        print(f\"Adding {len(documents)} documents to vector store...\")\n",
    "        \n",
    "        # Prepare data for ChromaDB\n",
    "        ids = []\n",
    "        metadatas = []\n",
    "        documents_text = []\n",
    "        embeddings_list = []\n",
    "        \n",
    "        for i, (doc, embedding) in enumerate(zip(documents, embeddings)):\n",
    "            # Generate unique ID\n",
    "            doc_id = f\"doc_{uuid.uuid4().hex[:8]}_{i}\"\n",
    "            ids.append(doc_id)\n",
    "            \n",
    "            # Prepare metadata\n",
    "            metadata = dict(doc.metadata)\n",
    "            metadata['doc_index'] = i\n",
    "            metadata['content_length'] = len(doc.page_content)\n",
    "            metadatas.append(metadata)\n",
    "            \n",
    "            # Document content\n",
    "            documents_text.append(doc.page_content)\n",
    "            \n",
    "            # Embedding\n",
    "            embeddings_list.append(embedding.tolist())\n",
    "        \n",
    "        # Add to collection\n",
    "        try:\n",
    "            self.collection.add(\n",
    "                ids=ids,\n",
    "                embeddings=embeddings_list,\n",
    "                metadatas=metadatas,\n",
    "                documents=documents_text\n",
    "            )\n",
    "            print(f\"Successfully added {len(documents)} documents to vector store\")\n",
    "            print(f\"Total documents in collection: {self.collection.count()}\")\n",
    "            \n",
    "        except Exception as e:\n",
    "            print(f\"Error adding documents to vector store: {e}\")\n",
    "            raise\n",
    "\n",
    "    def remove_all_documents(self):\n",
    "        self.collection.delete(where={\"doc_index\": {\"$gte\": 0}})\n",
    "\n",
    "vectorstore=VectorStore()\n",
    "vectorstore"
   ]
  },
  {
   "cell_type": "code",
   "execution_count": 86,
   "id": "0b9f6da8",
   "metadata": {},
   "outputs": [
    {
     "data": {
      "text/plain": [
       "[Document(metadata={'producer': 'pdfTeX-1.40.26', 'creator': 'LaTeX with hyperref', 'creationdate': '2025-08-12T09:48:22+00:00', 'source': '../data/pdf_files/ShrivatsaSaankhya_Env_Resume.pdf', 'file_path': '../data/pdf_files/ShrivatsaSaankhya_Env_Resume.pdf', 'total_pages': 1, 'format': 'PDF 1.5', 'title': '', 'author': '', 'subject': '', 'keywords': '', 'moddate': '2025-08-12T09:48:22+00:00', 'trapped': '', 'modDate': 'D:20250812094822Z', 'creationDate': 'D:20250812094822Z', 'page': 0}, page_content='Saankhya Shrivatsa\\n+1 (619) 415-3843 | shrivatsaankhya.bus@gmail.com | linkedin.com/in/saankhya-shrivatsa |\\nEducation\\nUniversity of California San Diego\\nSan Diego, CA\\nBachelor of Science in Global Health; Minor in Computational Social Sciences\\nSept. 2022 – December 2025\\nInventure Academy\\nBangalore, India\\nHigh School Diploma; 5 CAIE AS/A Levels including Physics, Chemistry, Math, and Biology\\nMay 2020 – June 2022\\nExperience\\nResearch Assistant – Climate Epidemiology\\nJune 2024 – Present'),\n",
       " Document(metadata={'producer': 'pdfTeX-1.40.26', 'creator': 'LaTeX with hyperref', 'creationdate': '2025-08-12T09:48:22+00:00', 'source': '../data/pdf_files/ShrivatsaSaankhya_Env_Resume.pdf', 'file_path': '../data/pdf_files/ShrivatsaSaankhya_Env_Resume.pdf', 'total_pages': 1, 'format': 'PDF 1.5', 'title': '', 'author': '', 'subject': '', 'keywords': '', 'moddate': '2025-08-12T09:48:22+00:00', 'trapped': '', 'modDate': 'D:20250812094822Z', 'creationDate': 'D:20250812094822Z', 'page': 0}, page_content='June 2024 – Present\\nCARE Lab; Herbert Wertheim School of Public Health\\nSan Diego, CA\\n• Lead researcher on a global systematic literature review assessing integration of disability justice into climate action,\\nmitigation, and adaptation plans; developing a redefined disability framework through a climate change lens and adapting\\nUN CRPD principles for climate policy contexts\\n• Collaborating with the Ministry of Health in Jordan to investigate associations between extreme weather events, climate'),\n",
       " Document(metadata={'producer': 'pdfTeX-1.40.26', 'creator': 'LaTeX with hyperref', 'creationdate': '2025-08-12T09:48:22+00:00', 'source': '../data/pdf_files/ShrivatsaSaankhya_Env_Resume.pdf', 'file_path': '../data/pdf_files/ShrivatsaSaankhya_Env_Resume.pdf', 'total_pages': 1, 'format': 'PDF 1.5', 'title': '', 'author': '', 'subject': '', 'keywords': '', 'moddate': '2025-08-12T09:48:22+00:00', 'trapped': '', 'modDate': 'D:20250812094822Z', 'creationDate': 'D:20250812094822Z', 'page': 0}, page_content='change, and diarrheal disease incidence\\n• Conduct environmental and epidemiological data collection, management, and statistical analysis using Excel and other tools;\\nsynthesize findings into technical reports for publication\\n• Coordinate multi-institutional project teams, ensuring adherence to timelines, research protocols, and safety standards.\\nResearch Assistant – Molecular Genetics in Hepatology\\nOct. 2023 – June 2024\\nOlefsky Lab, UC San Diego School of Medicine\\nSan Diego, CA'),\n",
       " Document(metadata={'producer': 'pdfTeX-1.40.26', 'creator': 'LaTeX with hyperref', 'creationdate': '2025-08-12T09:48:22+00:00', 'source': '../data/pdf_files/ShrivatsaSaankhya_Env_Resume.pdf', 'file_path': '../data/pdf_files/ShrivatsaSaankhya_Env_Resume.pdf', 'total_pages': 1, 'format': 'PDF 1.5', 'title': '', 'author': '', 'subject': '', 'keywords': '', 'moddate': '2025-08-12T09:48:22+00:00', 'trapped': '', 'modDate': 'D:20250812094822Z', 'creationDate': 'D:20250812094822Z', 'page': 0}, page_content='San Diego, CA\\n• Conducted experimental analysis to evaluate genetic factors influencing liver disease, applying quantitative methods\\ncomparable to toxicological dose–response assessments\\n• Executed RNA extraction, genotyping, PCR, and qPCR to measure expression differences in TM7 gene variants, identifying\\npotential biomarkers for early disease detection\\n• Documented laboratory protocols and analytical results in compliance with institutional quality assurance standards,'),\n",
       " Document(metadata={'producer': 'pdfTeX-1.40.26', 'creator': 'LaTeX with hyperref', 'creationdate': '2025-08-12T09:48:22+00:00', 'source': '../data/pdf_files/ShrivatsaSaankhya_Env_Resume.pdf', 'file_path': '../data/pdf_files/ShrivatsaSaankhya_Env_Resume.pdf', 'total_pages': 1, 'format': 'PDF 1.5', 'title': '', 'author': '', 'subject': '', 'keywords': '', 'moddate': '2025-08-12T09:48:22+00:00', 'trapped': '', 'modDate': 'D:20250812094822Z', 'creationDate': 'D:20250812094822Z', 'page': 0}, page_content='supporting reproducibility and regulatory review readiness.\\nSelected Projects\\nBangladesh Flood Adaptation Study – Independent Researcher: Designed a mixed-methods study, including a\\nrandomized experiment, to evaluate disability-inclusive policies in Bangladesh’s national adaptation plan and their impact on\\ndisaster relief outcomes for people with disabilities\\nDisability incidence and PM2.5 trends – Independent Researcher: Created an online reserve of maps tracking trends in'),\n",
       " Document(metadata={'producer': 'pdfTeX-1.40.26', 'creator': 'LaTeX with hyperref', 'creationdate': '2025-08-12T09:48:22+00:00', 'source': '../data/pdf_files/ShrivatsaSaankhya_Env_Resume.pdf', 'file_path': '../data/pdf_files/ShrivatsaSaankhya_Env_Resume.pdf', 'total_pages': 1, 'format': 'PDF 1.5', 'title': '', 'author': '', 'subject': '', 'keywords': '', 'moddate': '2025-08-12T09:48:22+00:00', 'trapped': '', 'modDate': 'D:20250812094822Z', 'creationDate': 'D:20250812094822Z', 'page': 0}, page_content='spread of PM2.5 following wildfires and analyzed trends in related ER admission data\\nTechnical Skills\\nField & Environmental Data Skills: Environmental data collection, literature screening, systematic review methodology,\\nsoil/water sampling (academic projects), hazard recognition principles\\nAnalysis & Reporting: Microsoft Excel, technical report writing, data management, statistical analysis\\nPublic Health Methods: Sampling design, population health assessment, health communication strategies'),\n",
       " Document(metadata={'producer': 'pdfTeX-1.40.26', 'creator': 'LaTeX with hyperref', 'creationdate': '2025-08-12T09:48:22+00:00', 'source': '../data/pdf_files/ShrivatsaSaankhya_Env_Resume.pdf', 'file_path': '../data/pdf_files/ShrivatsaSaankhya_Env_Resume.pdf', 'total_pages': 1, 'format': 'PDF 1.5', 'title': '', 'author': '', 'subject': '', 'keywords': '', 'moddate': '2025-08-12T09:48:22+00:00', 'trapped': '', 'modDate': 'D:20250812094822Z', 'creationDate': 'D:20250812094822Z', 'page': 0}, page_content='Leadership and Involvement\\nVice President- Internal\\nMay 2024 – Present\\nSociety for Immigrant and Refugee Health (UCSDSIRH)\\nSan Diego, CA\\n• Lead conversations on immigrant and refugee health through targeted clinic drives, tutoring, and other forms of community\\ninvolvement\\n• Head of the Newsletter Committee aimed at delivering information about the club’s past and future events with spotlight\\npieces on pertinent immigrant/refugee health topics'),\n",
       " Document(metadata={'producer': 'pdfTeX-1.40.26', 'creator': 'LaTeX with hyperref', 'creationdate': '2025-08-12T09:48:22+00:00', 'source': '../data/pdf_files/ShrivatsaSaankhya_Env_Resume.pdf', 'file_path': '../data/pdf_files/ShrivatsaSaankhya_Env_Resume.pdf', 'total_pages': 1, 'format': 'PDF 1.5', 'title': '', 'author': '', 'subject': '', 'keywords': '', 'moddate': '2025-08-12T09:48:22+00:00', 'trapped': '', 'modDate': 'D:20250812094822Z', 'creationDate': 'D:20250812094822Z', 'page': 0}, page_content='• Launched the organization’s first ever guest speaker series, inviting UCSD faculty and experts to discuss critical healthcare\\ndisparities in immigrant and refugee health\\n• Represent UCSD at immigrant/refugee health conferences and work with renowned experts in the field on awareness events\\nGeneral Health Cohort Lead\\nApril 2024 – Present\\nStudent Health Advocates (SHA)\\nSan Diego, CA'),\n",
       " Document(metadata={'producer': 'pdfTeX-1.40.26', 'creator': 'LaTeX with hyperref', 'creationdate': '2025-08-12T09:48:22+00:00', 'source': '../data/pdf_files/ShrivatsaSaankhya_Env_Resume.pdf', 'file_path': '../data/pdf_files/ShrivatsaSaankhya_Env_Resume.pdf', 'total_pages': 1, 'format': 'PDF 1.5', 'title': '', 'author': '', 'subject': '', 'keywords': '', 'moddate': '2025-08-12T09:48:22+00:00', 'trapped': '', 'modDate': 'D:20250812094822Z', 'creationDate': 'D:20250812094822Z', 'page': 0}, page_content='Student Health Advocates (SHA)\\nSan Diego, CA\\n• Contribute to the promotion of student health through comprehensive health assessments, identifying key areas for\\nimprovement within the campus community\\n• Facilitate educational workshops and create media content on essential health topics, including nutrition, healthy meal\\nplanning, and stress management, aimed at fostering healthier lifestyle choices among students'),\n",
       " Document(metadata={'producer': 'pdfTeX-1.40.26', 'creator': 'LaTeX with hyperref', 'creationdate': '2025-08-12T09:48:22+00:00', 'source': '../data/pdf_files/ShrivatsaSaankhya_Env_Resume.pdf', 'file_path': '../data/pdf_files/ShrivatsaSaankhya_Env_Resume.pdf', 'total_pages': 1, 'format': 'PDF 1.5', 'title': '', 'author': '', 'subject': '', 'keywords': '', 'moddate': '2025-08-12T09:48:22+00:00', 'trapped': '', 'modDate': 'D:20250812094822Z', 'creationDate': 'D:20250812094822Z', 'page': 0}, page_content='• Organize and lead general health awareness campaigns, engaging the student body in preventative health strategies and\\npromoting a culture of wellness on campus'),\n",
       " Document(metadata={'producer': 'pdfTeX-1.40.26', 'creator': 'LaTeX with hyperref', 'creationdate': '2025-09-17T23:16:25+00:00', 'source': '../data/pdf_files/Resume_Shree_G.pdf', 'file_path': '../data/pdf_files/Resume_Shree_G.pdf', 'total_pages': 1, 'format': 'PDF 1.5', 'title': '', 'author': '', 'subject': '', 'keywords': '', 'moddate': '2025-09-17T23:16:25+00:00', 'trapped': '', 'modDate': 'D:20250917231625Z', 'creationDate': 'D:20250917231625Z', 'page': 0}, page_content='Shree Gopalakrishnan\\n858-761-2827 | shree.hridai@gmail.com | Linkedin: shree-gk W | Github: Shree-G W\\nFull Stack Engineer with a track record of taking products from idea to production. My experience ranges from building an\\naward-winning IoT hardware MVP to deploying a scalable, full-stack AI analytics platform that boosted sales conversion.\\nCurrently looking to join a company where I can apply my AI and full stack expertise to build end-to-end systems that'),\n",
       " Document(metadata={'producer': 'pdfTeX-1.40.26', 'creator': 'LaTeX with hyperref', 'creationdate': '2025-09-17T23:16:25+00:00', 'source': '../data/pdf_files/Resume_Shree_G.pdf', 'file_path': '../data/pdf_files/Resume_Shree_G.pdf', 'total_pages': 1, 'format': 'PDF 1.5', 'title': '', 'author': '', 'subject': '', 'keywords': '', 'moddate': '2025-09-17T23:16:25+00:00', 'trapped': '', 'modDate': 'D:20250917231625Z', 'creationDate': 'D:20250917231625Z', 'page': 0}, page_content='solve complex challenges and ship features that actually help people.\\nTechnical Skills\\nLanguages & Frameworks: JavaScript (ES6+), TypeScript, Python, SQL, React.js, Next.js, FastAPI, Node.js, Prisma\\nFrontend Tools: Tailwind CSS, ShadCN, Styled Components, HTML, Framer Motion, D3\\nBackend & Data: Google BigQuery, PostgreSQL, Redis, RESTful API, ETL / ETL Processes, Docker, Websockets\\nAI/Data Science: Scikit-learn, Pandas, NumPy, K-Means Clustering, OpenAI API, Hugging Face'),\n",
       " Document(metadata={'producer': 'pdfTeX-1.40.26', 'creator': 'LaTeX with hyperref', 'creationdate': '2025-09-17T23:16:25+00:00', 'source': '../data/pdf_files/Resume_Shree_G.pdf', 'file_path': '../data/pdf_files/Resume_Shree_G.pdf', 'total_pages': 1, 'format': 'PDF 1.5', 'title': '', 'author': '', 'subject': '', 'keywords': '', 'moddate': '2025-09-17T23:16:25+00:00', 'trapped': '', 'modDate': 'D:20250917231625Z', 'creationDate': 'D:20250917231625Z', 'page': 0}, page_content='Cloud & DevOps: GCP (Cloud Functions, Cloud Run), AWS (S3, Lambda), Vercel, GitHub Actions, Neon\\nOther Tools: Git, Looker Studio, Playwright, Agile Development, Full-Stack Architecture\\nExperience\\nFull Stack Engineer\\nJuly 2025 – Present\\niFrog Marketing Solutions W\\n• Built a scalable data pipeline to process 200,000+ dealer records from a third-party API into Google BigQuery.\\n• Designed a full stack AI dashboard to provide real-time customer segmentation and lead scoring for 67 dealerships.'),\n",
       " Document(metadata={'producer': 'pdfTeX-1.40.26', 'creator': 'LaTeX with hyperref', 'creationdate': '2025-09-17T23:16:25+00:00', 'source': '../data/pdf_files/Resume_Shree_G.pdf', 'file_path': '../data/pdf_files/Resume_Shree_G.pdf', 'total_pages': 1, 'format': 'PDF 1.5', 'title': '', 'author': '', 'subject': '', 'keywords': '', 'moddate': '2025-09-17T23:16:25+00:00', 'trapped': '', 'modDate': 'D:20250917231625Z', 'creationDate': 'D:20250917231625Z', 'page': 0}, page_content='• Launched the platform to all dealership stakeholders, resulting in a 15% increase in ad sales conversion rates.\\nSoftware Engineering Intern\\nMay 2024 – Aug 2024\\nMercury Alert AI W\\n• Improved user dashboard load times by 40% for 300+ devices by optimizing patient-safety analytics functions.\\n• Architected 15+ relational schemas and refactored 10+ front end components for NoSQL to PostgreSQL migration.\\nMachine Learning Intern\\nJun 2024 – Oct 2024\\nServiceMob W'),\n",
       " Document(metadata={'producer': 'pdfTeX-1.40.26', 'creator': 'LaTeX with hyperref', 'creationdate': '2025-09-17T23:16:25+00:00', 'source': '../data/pdf_files/Resume_Shree_G.pdf', 'file_path': '../data/pdf_files/Resume_Shree_G.pdf', 'total_pages': 1, 'format': 'PDF 1.5', 'title': '', 'author': '', 'subject': '', 'keywords': '', 'moddate': '2025-09-17T23:16:25+00:00', 'trapped': '', 'modDate': 'D:20250917231625Z', 'creationDate': 'D:20250917231625Z', 'page': 0}, page_content='Jun 2024 – Oct 2024\\nServiceMob W\\n• Built a weekly call volume forecaster, achieving 9% MAPE to improve staffing decisions for 500+ support agents.\\n• Deployed forecasting API inside consumer-side web app accessed real-time by 5+ call-center agencies.\\nMachine Learning Intern\\nJun 2022 – Aug 2022\\nPoint Perfect Technology Solutions W\\n• Built a KNN-based resume classifier, that classified over 450+ resumes (and counting!) into best-fit jobs.'),\n",
       " Document(metadata={'producer': 'pdfTeX-1.40.26', 'creator': 'LaTeX with hyperref', 'creationdate': '2025-09-17T23:16:25+00:00', 'source': '../data/pdf_files/Resume_Shree_G.pdf', 'file_path': '../data/pdf_files/Resume_Shree_G.pdf', 'total_pages': 1, 'format': 'PDF 1.5', 'title': '', 'author': '', 'subject': '', 'keywords': '', 'moddate': '2025-09-17T23:16:25+00:00', 'trapped': '', 'modDate': 'D:20250917231625Z', 'creationDate': 'D:20250917231625Z', 'page': 0}, page_content='• Deployed the classifier as a REST API and integrated it with an internal HR tool to cut time-to-hire by 30%.\\nProjects\\nShrocial Media W | Next.js, Node.js, App Router, TypeScript, PostgreSQL, Prisma, Tailwind CSS, ShadCN, Neon, Clerk\\n• Developed a full-stack social app using Next.js with server-side rendering and 15+ dynamic/static routes.\\n• Integrated Neon Database with PostgreSQL and Prisma ORM, creating 10+ route handlers for API responses.'),\n",
       " Document(metadata={'producer': 'pdfTeX-1.40.26', 'creator': 'LaTeX with hyperref', 'creationdate': '2025-09-17T23:16:25+00:00', 'source': '../data/pdf_files/Resume_Shree_G.pdf', 'file_path': '../data/pdf_files/Resume_Shree_G.pdf', 'total_pages': 1, 'format': 'PDF 1.5', 'title': '', 'author': '', 'subject': '', 'keywords': '', 'moddate': '2025-09-17T23:16:25+00:00', 'trapped': '', 'modDate': 'D:20250917231625Z', 'creationDate': 'D:20250917231625Z', 'page': 0}, page_content='• Designed a responsive UI with Tailwind CSS for consistent styling and dynamic layouts for 4 screen sizes.\\nRestaurant Ordering System W | Full Stack Development, IoT, Real-Time Systems, MVP development\\n• Built a web-based order accuracy system using Raspberry Pi, reducing simulated errors by 35% in restaurants.\\n• Designed and fabricated a 3D-modeled wooden enclosure to house a touchscreen, battery, and Raspberry Pi.'),\n",
       " Document(metadata={'producer': 'pdfTeX-1.40.26', 'creator': 'LaTeX with hyperref', 'creationdate': '2025-09-17T23:16:25+00:00', 'source': '../data/pdf_files/Resume_Shree_G.pdf', 'file_path': '../data/pdf_files/Resume_Shree_G.pdf', 'total_pages': 1, 'format': 'PDF 1.5', 'title': '', 'author': '', 'subject': '', 'keywords': '', 'moddate': '2025-09-17T23:16:25+00:00', 'trapped': '', 'modDate': 'D:20250917231625Z', 'creationDate': 'D:20250917231625Z', 'page': 0}, page_content='• Implemented real-time tracking to process 10+ concurrent orders with <1s latency and haptic feedback.\\n• Won 2nd place among 20+ teams in UCSD’s MVP competition for technical innovation and hands-on engineering.\\nEducation\\nUniversity of California, San Diego\\nSep 2021 – Jun 2025\\nB.S. in Computer Science\\n• Relevant Coursework: Advanced Data Structures in Java, Design and Analysis of Algorithms, Deep Learning')]"
      ]
     },
     "execution_count": 86,
     "metadata": {},
     "output_type": "execute_result"
    }
   ],
   "source": [
    "chunks = split_docs\n",
    "chunks"
   ]
  },
  {
   "cell_type": "code",
   "execution_count": 87,
   "id": "dca8b2f1",
   "metadata": {},
   "outputs": [
    {
     "name": "stderr",
     "output_type": "stream",
     "text": [
      "Batches: 100%|██████████| 1/1 [00:00<00:00,  3.30it/s]\n"
     ]
    },
    {
     "name": "stdout",
     "output_type": "stream",
     "text": [
      "shape of embeddings (18, 384)\n",
      "Adding 18 documents to vector store...\n",
      "Successfully added 18 documents to vector store\n",
      "Total documents in collection: 18\n"
     ]
    }
   ],
   "source": [
    "## Converting the text to embeddings\n",
    "\n",
    "texts = [chunk.page_content for chunk in chunks]\n",
    "\n",
    "embeddings = embedding_manager.generate_embeddings(texts)\n",
    "vectorstore.add_documents(chunks, embeddings)"
   ]
  },
  {
   "cell_type": "code",
   "execution_count": 111,
   "id": "2eed7a38",
   "metadata": {},
   "outputs": [
    {
     "data": {
      "text/plain": [
       "array([ 1.83387790e-02,  8.08962733e-02,  2.09134053e-02,  1.14547059e-01,\n",
       "        5.48869409e-02,  8.93306583e-02, -1.02011964e-01,  3.47146718e-03,\n",
       "       -5.44685647e-02,  2.06589401e-02, -6.69584190e-03, -3.18160877e-02,\n",
       "        4.00375985e-02,  5.52755408e-02,  2.12789811e-02, -3.06684966e-03,\n",
       "       -4.07734215e-02,  1.40934892e-04, -6.36898875e-02, -1.18239434e-03,\n",
       "       -3.82971242e-02,  6.46867454e-02, -5.75176552e-02,  1.82433482e-02,\n",
       "       -9.14873406e-02,  5.93479630e-03, -7.05572590e-02,  3.76166925e-02,\n",
       "       -2.51279920e-02,  1.00590207e-01,  1.21803246e-02,  1.79777425e-02,\n",
       "       -9.75954160e-02,  3.57726179e-02,  3.59861292e-02,  6.18009418e-02,\n",
       "        3.82712744e-02, -5.21687865e-02, -7.88028240e-02,  1.26000894e-02,\n",
       "       -4.36004624e-02, -7.64704123e-02, -6.77130464e-03, -1.12373397e-01,\n",
       "        3.62031981e-02, -5.79416454e-02,  2.20499448e-02, -2.13676244e-02,\n",
       "       -4.52533364e-02, -2.46788692e-02,  7.13149533e-02,  3.79058532e-02,\n",
       "        4.81487960e-02,  1.21998489e-02, -2.96449047e-02,  1.95913315e-02,\n",
       "        2.49193050e-02,  7.97637585e-06, -2.87629776e-02, -1.43376291e-02,\n",
       "        3.09442542e-02, -3.15158963e-02, -6.08492643e-02,  1.29378196e-02,\n",
       "        4.58466336e-02,  1.09426901e-02,  4.28291457e-03,  1.91024598e-02,\n",
       "        3.26149762e-02, -9.99424905e-02, -5.51375896e-02,  5.28109297e-02,\n",
       "        5.10116667e-02,  1.35824941e-02,  5.34159020e-02, -2.90280413e-02,\n",
       "       -1.10943252e-02, -5.67233423e-03,  1.38086498e-01, -2.88849361e-02,\n",
       "        1.01576261e-01, -2.05825474e-02,  4.22003195e-02,  9.20755416e-02,\n",
       "        1.65235046e-02,  1.87267014e-03,  3.13439257e-02,  1.88455489e-02,\n",
       "        2.03489475e-02,  6.08942052e-03, -2.92539783e-02, -5.15535586e-02,\n",
       "        1.00422129e-01, -2.80371722e-04, -5.60234785e-02,  4.99654524e-02,\n",
       "        5.88037223e-02, -3.00449729e-02, -5.67996427e-02, -1.31952157e-02,\n",
       "        3.36654298e-02, -6.33285418e-02, -6.56779297e-03,  3.92557979e-02,\n",
       "        4.13810983e-02, -5.52429594e-02, -2.86321398e-02, -1.00513309e-01,\n",
       "       -6.18380681e-02, -1.10288442e-03, -9.68321562e-02, -1.52646843e-02,\n",
       "        1.88405849e-02, -2.23342702e-02,  5.65033369e-02,  1.68925971e-02,\n",
       "       -7.52120912e-02, -3.81414145e-02,  4.01581684e-03, -3.87889929e-02,\n",
       "       -2.49970928e-02,  2.29937769e-02,  9.18764900e-03,  3.91455665e-02,\n",
       "        7.34785423e-02,  2.25963891e-02,  5.06086610e-02,  1.87373322e-33,\n",
       "        7.99490735e-02, -5.23126873e-05,  1.09960353e-02, -5.62657155e-02,\n",
       "        1.22896016e-01, -1.09450668e-02, -5.37004396e-02, -5.61299063e-02,\n",
       "       -3.04327961e-02, -5.15602008e-02,  7.04552680e-02,  5.90737276e-02,\n",
       "        6.72150254e-02,  3.78989731e-03, -2.12380793e-02,  1.20889256e-03,\n",
       "       -6.12563640e-02,  2.72780806e-02, -1.65564641e-02,  2.61922665e-02,\n",
       "       -7.47887790e-02,  1.09484093e-02,  8.37292895e-02,  1.11738436e-01,\n",
       "       -3.01318988e-02,  1.11598773e-02,  5.54024130e-02,  1.06237251e-02,\n",
       "        3.71260233e-02,  2.39602178e-02, -1.76040567e-02,  2.57897172e-02,\n",
       "       -6.80601364e-03, -9.33670998e-02,  6.41948953e-02, -2.24075671e-02,\n",
       "       -1.07586905e-02,  1.16020152e-02,  4.16776026e-03, -5.36395609e-02,\n",
       "       -1.88853405e-02, -4.95261420e-03,  1.95995830e-02, -5.98845817e-02,\n",
       "        6.01253919e-02,  1.85601076e-03,  1.14230268e-01, -7.98002183e-02,\n",
       "       -3.49999852e-02, -4.04728539e-02, -5.21418862e-02,  9.59380195e-02,\n",
       "       -1.92404129e-02, -1.29453003e-01,  1.76280849e-02, -2.52112150e-02,\n",
       "        2.07325667e-02,  2.03663744e-02,  1.43951764e-02, -4.34985459e-02,\n",
       "       -9.01397131e-03, -2.52213031e-02, -3.02323531e-02, -3.17277052e-02,\n",
       "        1.16920412e-01, -3.86556424e-02,  1.78588831e-04, -9.40821972e-03,\n",
       "       -6.04848340e-02, -5.29561378e-02,  5.21509163e-02, -1.47997700e-02,\n",
       "        5.78445867e-02,  3.27698551e-02, -5.47740124e-02, -2.94635762e-02,\n",
       "        6.34037256e-02,  2.56425738e-02, -5.23971654e-02, -1.31525500e-02,\n",
       "       -1.14310473e-01,  4.95099649e-02,  3.34263407e-02,  4.38894741e-02,\n",
       "        3.62834125e-03, -5.48248366e-02, -4.30424586e-02,  5.11064306e-02,\n",
       "       -4.10757214e-03, -1.43251479e-01,  2.53993343e-03, -5.28043918e-02,\n",
       "        1.13858990e-01,  5.49255405e-03,  5.21506707e-04, -4.14008816e-33,\n",
       "        8.50696675e-03, -5.99890389e-02, -3.27084400e-02, -5.50383925e-02,\n",
       "        6.58540353e-02, -1.53777199e-02, -4.69980203e-02, -7.00931847e-02,\n",
       "        5.47233447e-02, -1.33600514e-02,  1.62571494e-03, -2.77281720e-02,\n",
       "       -6.44877413e-03, -2.08763592e-02,  4.60496685e-03, -2.99143642e-02,\n",
       "       -4.29151878e-02,  1.57185905e-02, -2.92775054e-02,  1.92069113e-02,\n",
       "        1.28645942e-01, -4.05581854e-02,  4.30665538e-03,  9.77134258e-02,\n",
       "       -5.74061908e-02,  4.08302546e-02,  9.78333056e-02, -3.91286202e-02,\n",
       "        8.37387866e-04, -7.25517944e-02, -4.95407134e-02,  5.17038219e-02,\n",
       "       -4.93443608e-02,  1.97934881e-02, -1.15523124e-02, -1.04052275e-02,\n",
       "       -2.88098827e-02, -8.12441260e-02, -6.35897890e-02, -1.54422624e-02,\n",
       "        3.61253247e-02, -2.64924299e-02,  5.00261784e-02, -3.32259089e-02,\n",
       "        1.01072893e-01,  5.28852679e-02, -7.53094675e-03, -4.32297811e-02,\n",
       "        3.45499814e-02, -7.84592554e-02,  3.08387559e-02, -1.25849908e-02,\n",
       "       -5.25697023e-02,  5.15362248e-02,  6.72785789e-02, -6.71300963e-02,\n",
       "        1.67986173e-02, -1.14426583e-01, -6.61296248e-02, -1.48895374e-02,\n",
       "        2.06439942e-02,  1.53535260e-02, -3.16245481e-02,  4.23017479e-02,\n",
       "       -1.47524811e-02, -2.92045809e-02, -9.22828540e-02, -5.88949434e-02,\n",
       "        2.55240928e-02,  3.42138819e-02,  6.85819164e-02, -5.13512865e-02,\n",
       "       -3.74024473e-02, -1.05992027e-01,  3.69699113e-02, -2.03275327e-02,\n",
       "       -3.87193561e-02,  9.39536244e-02, -8.71644244e-02,  6.07250482e-02,\n",
       "       -2.18382366e-02, -5.18746264e-02, -6.46267692e-03,  1.67395640e-02,\n",
       "        5.21771386e-02, -1.90421771e-02, -2.36472767e-03, -5.23014180e-02,\n",
       "        1.93774533e-02,  7.25117475e-02, -1.14072017e-01,  2.77366117e-02,\n",
       "       -5.77631816e-02,  5.16414195e-02, -3.30525301e-02, -4.08891943e-08,\n",
       "        6.70005232e-02,  3.41950879e-02,  2.53627859e-02,  1.51429242e-02,\n",
       "       -8.51252023e-03,  2.22933441e-02, -6.37137368e-02, -1.50640830e-02,\n",
       "       -6.28725961e-02,  1.01440668e-01, -1.31850587e-02,  1.05014816e-02,\n",
       "        1.15847632e-01,  5.03166318e-02, -9.58943181e-03, -4.30553742e-02,\n",
       "        8.20632204e-02,  4.26386110e-02, -4.20656353e-02, -1.66263373e-03,\n",
       "       -3.44265588e-02, -4.42826282e-03, -3.26282382e-02,  3.90334427e-03,\n",
       "        3.91319618e-02,  4.39203605e-02, -1.91620719e-02, -6.36680936e-03,\n",
       "        2.86549795e-02, -4.81383596e-03, -7.15664923e-02, -9.46904998e-03,\n",
       "       -4.42592315e-02, -5.34919612e-02, -2.21633934e-03, -6.50488883e-02,\n",
       "        9.64868665e-02,  4.47636768e-02, -4.73081097e-02, -1.26790078e-02,\n",
       "        7.98459072e-03,  1.12957455e-01, -3.58336233e-02,  2.63630617e-02,\n",
       "        7.27125723e-03, -4.31071743e-02, -7.16500357e-02,  4.74076495e-02,\n",
       "       -2.38246433e-02,  2.20860038e-02,  1.33906733e-02, -5.20438738e-02,\n",
       "        9.64094698e-03,  3.28973085e-02, -3.41708362e-02,  8.08441117e-02,\n",
       "        3.99048030e-02, -2.93202661e-02, -6.53969944e-02,  4.53148559e-02,\n",
       "        5.99939190e-02, -6.24205880e-02, -7.55236819e-02,  5.82315996e-02],\n",
       "      dtype=float32)"
      ]
     },
     "execution_count": 111,
     "metadata": {},
     "output_type": "execute_result"
    }
   ],
   "source": [
    "embeddings[1]"
   ]
  },
  {
   "cell_type": "code",
   "execution_count": 88,
   "id": "e0d9a7d2",
   "metadata": {},
   "outputs": [],
   "source": [
    "class RAGRetriever:\n",
    "    \"\"\"Handles query-based retrieval from the vector store\"\"\"\n",
    "    \n",
    "    def __init__(self, vector_store: VectorStore, embedding_manager: EmbeddingManager):\n",
    "        \"\"\"\n",
    "        Initialize the retriever\n",
    "        \n",
    "        Args:\n",
    "            vector_store: Vector store containing document embeddings\n",
    "            embedding_manager: Manager for generating query embeddings\n",
    "        \"\"\"\n",
    "        self.vector_store = vector_store\n",
    "        self.embedding_manager = embedding_manager\n",
    "\n",
    "    def retrieve(self, query: str, top_k: int = 5, score_threshold: float = -100.0) -> List[Dict[str, Any]]:\n",
    "        \"\"\"\n",
    "        Retrieve relevant documents for a query\n",
    "        \n",
    "        Args:\n",
    "            query: The search query\n",
    "            top_k: Number of top results to return\n",
    "            score_threshold: Minimum similarity score threshold\n",
    "            \n",
    "        Returns:\n",
    "            List of dictionaries containing retrieved documents and metadata\n",
    "        \"\"\"\n",
    "        print(f\"Retrieving documents for query: '{query}'\")\n",
    "        print(f\"Top K: {top_k}, Score threshold: {score_threshold}\")\n",
    "        \n",
    "        # Generate query embedding\n",
    "        query_embedding = self.embedding_manager.generate_embeddings([query])[0]\n",
    "        \n",
    "        # Search in vector store\n",
    "        try:\n",
    "            results = self.vector_store.collection.query(\n",
    "                query_embeddings=[query_embedding.tolist()],\n",
    "                n_results=top_k\n",
    "            )\n",
    "            \n",
    "            # Process results\n",
    "            retrieved_docs = []\n",
    "            \n",
    "            if results['documents'] and results['documents'][0]:\n",
    "                documents = results['documents'][0]\n",
    "                metadatas = results['metadatas'][0]\n",
    "                distances = results['distances'][0]\n",
    "                ids = results['ids'][0]\n",
    "                \n",
    "                for i, (doc_id, document, metadata, distance) in enumerate(zip(ids, documents, metadatas, distances)):\n",
    "                    # Convert distance to similarity score (ChromaDB uses cosine distance)\n",
    "                    similarity_score = 1 - distance\n",
    "                    print(similarity_score)\n",
    "                    \n",
    "                    if similarity_score >= score_threshold:\n",
    "                        retrieved_docs.append({\n",
    "                            'id': doc_id,\n",
    "                            'content': document,\n",
    "                            'metadata': metadata,\n",
    "                            'similarity_score': similarity_score,\n",
    "                            'distance': distance,\n",
    "                            'rank': i + 1\n",
    "                        })\n",
    "                \n",
    "                print(f\"Retrieved {len(retrieved_docs)} documents (after filtering)\")\n",
    "            else:\n",
    "                print(\"No documents found\")\n",
    "            \n",
    "            return retrieved_docs\n",
    "            \n",
    "        except Exception as e:\n",
    "            print(f\"Error during retrieval: {e}\")\n",
    "            return []\n",
    "\n",
    "rag_retriever=RAGRetriever(vectorstore,embedding_manager)"
   ]
  },
  {
   "cell_type": "code",
   "execution_count": 93,
   "id": "1154d8e7",
   "metadata": {},
   "outputs": [
    {
     "name": "stdout",
     "output_type": "stream",
     "text": [
      "Retrieving documents for query: 'who is shreeg?'\n",
      "Top K: 5, Score threshold: -100.0\n"
     ]
    },
    {
     "name": "stderr",
     "output_type": "stream",
     "text": [
      "Batches: 100%|██████████| 1/1 [00:00<00:00,  2.80it/s]"
     ]
    },
    {
     "name": "stdout",
     "output_type": "stream",
     "text": [
      "shape of embeddings (1, 384)\n",
      "-0.3831629753112793\n",
      "-0.6480484008789062\n",
      "-0.6647789478302002\n",
      "-0.7561562061309814\n",
      "-0.8267606496810913\n",
      "Retrieved 5 documents (after filtering)\n"
     ]
    },
    {
     "name": "stderr",
     "output_type": "stream",
     "text": [
      "\n"
     ]
    },
    {
     "data": {
      "text/plain": [
       "[{'id': 'doc_50dcec39_10',\n",
       "  'content': 'Shree Gopalakrishnan\\n858-761-2827 | shree.hridai@gmail.com | Linkedin: shree-gk W | Github: Shree-G W\\nFull Stack Engineer with a track record of taking products from idea to production. My experience ranges from building an\\naward-winning IoT hardware MVP to deploying a scalable, full-stack AI analytics platform that boosted sales conversion.\\nCurrently looking to join a company where I can apply my AI and full stack expertise to build end-to-end systems that',\n",
       "  'metadata': {'content_length': 461,\n",
       "   'format': 'PDF 1.5',\n",
       "   'trapped': '',\n",
       "   'title': '',\n",
       "   'producer': 'pdfTeX-1.40.26',\n",
       "   'doc_index': 10,\n",
       "   'page': 0,\n",
       "   'creationDate': 'D:20250917231625Z',\n",
       "   'source': '../data/pdf_files/Resume_Shree_G.pdf',\n",
       "   'total_pages': 1,\n",
       "   'subject': '',\n",
       "   'creator': 'LaTeX with hyperref',\n",
       "   'file_path': '../data/pdf_files/Resume_Shree_G.pdf',\n",
       "   'creationdate': '2025-09-17T23:16:25+00:00',\n",
       "   'moddate': '2025-09-17T23:16:25+00:00',\n",
       "   'modDate': 'D:20250917231625Z',\n",
       "   'author': '',\n",
       "   'keywords': ''},\n",
       "  'similarity_score': -0.3831629753112793,\n",
       "  'distance': 1.3831629753112793,\n",
       "  'rank': 1},\n",
       " {'id': 'doc_9d2ed43c_12',\n",
       "  'content': 'Cloud & DevOps: GCP (Cloud Functions, Cloud Run), AWS (S3, Lambda), Vercel, GitHub Actions, Neon\\nOther Tools: Git, Looker Studio, Playwright, Agile Development, Full-Stack Architecture\\nExperience\\nFull Stack Engineer\\nJuly 2025 – Present\\niFrog Marketing Solutions W\\n• Built a scalable data pipeline to process 200,000+ dealer records from a third-party API into Google BigQuery.\\n• Designed a full stack AI dashboard to provide real-time customer segmentation and lead scoring for 67 dealerships.',\n",
       "  'metadata': {'format': 'PDF 1.5',\n",
       "   'creationdate': '2025-09-17T23:16:25+00:00',\n",
       "   'producer': 'pdfTeX-1.40.26',\n",
       "   'creationDate': 'D:20250917231625Z',\n",
       "   'keywords': '',\n",
       "   'doc_index': 12,\n",
       "   'source': '../data/pdf_files/Resume_Shree_G.pdf',\n",
       "   'author': '',\n",
       "   'file_path': '../data/pdf_files/Resume_Shree_G.pdf',\n",
       "   'trapped': '',\n",
       "   'content_length': 493,\n",
       "   'moddate': '2025-09-17T23:16:25+00:00',\n",
       "   'subject': '',\n",
       "   'total_pages': 1,\n",
       "   'title': '',\n",
       "   'modDate': 'D:20250917231625Z',\n",
       "   'page': 0,\n",
       "   'creator': 'LaTeX with hyperref'},\n",
       "  'similarity_score': -0.6480484008789062,\n",
       "  'distance': 1.6480484008789062,\n",
       "  'rank': 2},\n",
       " {'id': 'doc_27960881_0',\n",
       "  'content': 'Saankhya Shrivatsa\\n+1 (619) 415-3843 | shrivatsaankhya.bus@gmail.com | linkedin.com/in/saankhya-shrivatsa |\\nEducation\\nUniversity of California San Diego\\nSan Diego, CA\\nBachelor of Science in Global Health; Minor in Computational Social Sciences\\nSept. 2022 – December 2025\\nInventure Academy\\nBangalore, India\\nHigh School Diploma; 5 CAIE AS/A Levels including Physics, Chemistry, Math, and Biology\\nMay 2020 – June 2022\\nExperience\\nResearch Assistant – Climate Epidemiology\\nJune 2024 – Present',\n",
       "  'metadata': {'doc_index': 0,\n",
       "   'source': '../data/pdf_files/ShrivatsaSaankhya_Env_Resume.pdf',\n",
       "   'total_pages': 1,\n",
       "   'title': '',\n",
       "   'moddate': '2025-08-12T09:48:22+00:00',\n",
       "   'keywords': '',\n",
       "   'creator': 'LaTeX with hyperref',\n",
       "   'modDate': 'D:20250812094822Z',\n",
       "   'subject': '',\n",
       "   'creationdate': '2025-08-12T09:48:22+00:00',\n",
       "   'author': '',\n",
       "   'page': 0,\n",
       "   'creationDate': 'D:20250812094822Z',\n",
       "   'format': 'PDF 1.5',\n",
       "   'trapped': '',\n",
       "   'content_length': 487,\n",
       "   'producer': 'pdfTeX-1.40.26',\n",
       "   'file_path': '../data/pdf_files/ShrivatsaSaankhya_Env_Resume.pdf'},\n",
       "  'similarity_score': -0.6647789478302002,\n",
       "  'distance': 1.6647789478302002,\n",
       "  'rank': 3},\n",
       " {'id': 'doc_d16c3b08_14',\n",
       "  'content': 'Jun 2024 – Oct 2024\\nServiceMob W\\n• Built a weekly call volume forecaster, achieving 9% MAPE to improve staffing decisions for 500+ support agents.\\n• Deployed forecasting API inside consumer-side web app accessed real-time by 5+ call-center agencies.\\nMachine Learning Intern\\nJun 2022 – Aug 2022\\nPoint Perfect Technology Solutions W\\n• Built a KNN-based resume classifier, that classified over 450+ resumes (and counting!) into best-fit jobs.',\n",
       "  'metadata': {'modDate': 'D:20250917231625Z',\n",
       "   'subject': '',\n",
       "   'file_path': '../data/pdf_files/Resume_Shree_G.pdf',\n",
       "   'creationdate': '2025-09-17T23:16:25+00:00',\n",
       "   'creationDate': 'D:20250917231625Z',\n",
       "   'content_length': 439,\n",
       "   'title': '',\n",
       "   'total_pages': 1,\n",
       "   'trapped': '',\n",
       "   'doc_index': 14,\n",
       "   'format': 'PDF 1.5',\n",
       "   'author': '',\n",
       "   'producer': 'pdfTeX-1.40.26',\n",
       "   'keywords': '',\n",
       "   'creator': 'LaTeX with hyperref',\n",
       "   'page': 0,\n",
       "   'source': '../data/pdf_files/Resume_Shree_G.pdf',\n",
       "   'moddate': '2025-09-17T23:16:25+00:00'},\n",
       "  'similarity_score': -0.7561562061309814,\n",
       "  'distance': 1.7561562061309814,\n",
       "  'rank': 4},\n",
       " {'id': 'doc_4d032641_13',\n",
       "  'content': '• Launched the platform to all dealership stakeholders, resulting in a 15% increase in ad sales conversion rates.\\nSoftware Engineering Intern\\nMay 2024 – Aug 2024\\nMercury Alert AI W\\n• Improved user dashboard load times by 40% for 300+ devices by optimizing patient-safety analytics functions.\\n• Architected 15+ relational schemas and refactored 10+ front end components for NoSQL to PostgreSQL migration.\\nMachine Learning Intern\\nJun 2024 – Oct 2024\\nServiceMob W',\n",
       "  'metadata': {'page': 0,\n",
       "   'modDate': 'D:20250917231625Z',\n",
       "   'source': '../data/pdf_files/Resume_Shree_G.pdf',\n",
       "   'creator': 'LaTeX with hyperref',\n",
       "   'format': 'PDF 1.5',\n",
       "   'producer': 'pdfTeX-1.40.26',\n",
       "   'trapped': '',\n",
       "   'title': '',\n",
       "   'content_length': 460,\n",
       "   'moddate': '2025-09-17T23:16:25+00:00',\n",
       "   'creationdate': '2025-09-17T23:16:25+00:00',\n",
       "   'subject': '',\n",
       "   'author': '',\n",
       "   'keywords': '',\n",
       "   'file_path': '../data/pdf_files/Resume_Shree_G.pdf',\n",
       "   'doc_index': 13,\n",
       "   'creationDate': 'D:20250917231625Z',\n",
       "   'total_pages': 1},\n",
       "  'similarity_score': -0.8267606496810913,\n",
       "  'distance': 1.8267606496810913,\n",
       "  'rank': 5}]"
      ]
     },
     "execution_count": 93,
     "metadata": {},
     "output_type": "execute_result"
    }
   ],
   "source": [
    "rag_retriever.retrieve(\"who is shreeg?\")"
   ]
  },
  {
   "cell_type": "markdown",
   "id": "63a3f9b6",
   "metadata": {},
   "source": [
    "So far we've:\n",
    "\n",
    "1. Loaded documents via document loaders into a list of Document objects that have the text of the documents, as well as related metadata.\n",
    "2. Split up the Document texts via a text splitter into more manageable chunks.\n",
    "3. We've used SentenceTransformer, which is a python class from the sentence-transformers library. We've loaded a model into the SentenceTransformer.\n",
    "4. We used the SentenceTransformer to convert text chunks into embeddings. Embeddings are Numpy Arrays that are essentially very high dimensional vectors that are used for semantic search and reasoning tasks.\n",
    "5. We created a vector store to store all these vectors using ChromaDB. This is a local file storage bucket, but in production we usually host in the cloud. We initialize the store and add all the documents with the vector embeddings that we computed in step 4.\n",
    "6. We then created a RAGRetriever, that if given a query, conerts the query into a vector using the same generate_embeddings function, and then computes similarity search across the entire vector-db for semantically similar chunks.\n",
    "    a. side note: this is where I'm running into errors. Not sure if my vector-db initial document store is too tiny, as it is just two resume PDFs. Another possible error is that the pdf might be formatted weirdly, or chunking might be splitting up things weirdly as well. Yet another possible error is that the similarity search engine I'm using may be non-optimized. IDK!\n",
    "\n",
    "What we have yet to do:\n",
    "7. Connect to an LLM, give it context based on the similarity search results as well as the user prompt, and then let it run."
   ]
  },
  {
   "cell_type": "code",
   "execution_count": 113,
   "id": "b73536f7",
   "metadata": {},
   "outputs": [],
   "source": [
    "# Simple RAG Pipeline w/ Groq\n",
    "from langchain_groq import ChatGroq\n",
    "import os\n",
    "from dotenv import load_dotenv\n",
    "load_dotenv()\n",
    "\n",
    "# Initialize GROQ LLM\n",
    "groq_api_key = os.getenv(\"GROQ_API_KEY\")\n",
    "\n",
    "llm=ChatGroq(groq_api_key=groq_api_key,model_name=\"llama-3.1-8b-instant\",temperature=0.1,max_tokens=1024)\n",
    "\n",
    "# Simple RAG function: retrieve + generate\n",
    "def rag_simple(query,retriever,llm,top_k=10):\n",
    "    ## retriever the context\n",
    "    results=retriever.retrieve(query,top_k=top_k)\n",
    "    context=\"\\n\\n\".join([doc['content'] for doc in results]) if results else \"\"\n",
    "    if not context:\n",
    "        return \"No relevant context found to answer the question.\"\n",
    "    \n",
    "    ## generate the answwer using GROQ LLM\n",
    "    prompt=f\"\"\"Use the following context to answer the question concisely. Cite your answers.\n",
    "        Context:\n",
    "        {context}\n",
    "\n",
    "        Question: {query}\n",
    "\n",
    "        Answer:\"\"\"\n",
    "    \n",
    "    response=llm.invoke([prompt.format(context=context,query=query)])\n",
    "    return response.content"
   ]
  },
  {
   "cell_type": "code",
   "execution_count": 117,
   "id": "8224cce2",
   "metadata": {},
   "outputs": [
    {
     "name": "stdout",
     "output_type": "stream",
     "text": [
      "Retrieving documents for query: 'what is shree's most impressive research accomplishment?'\n",
      "Top K: 10, Score threshold: -100.0\n"
     ]
    },
    {
     "name": "stderr",
     "output_type": "stream",
     "text": [
      "Batches: 100%|██████████| 1/1 [00:00<00:00,  1.39it/s]\n"
     ]
    },
    {
     "name": "stdout",
     "output_type": "stream",
     "text": [
      "shape of embeddings (1, 384)\n",
      "-0.3330094814300537\n",
      "-0.512891411781311\n",
      "-0.530566930770874\n",
      "-0.5411016941070557\n",
      "-0.5528969764709473\n",
      "-0.568199634552002\n",
      "-0.5764554738998413\n",
      "-0.6549750566482544\n",
      "-0.6717746257781982\n",
      "-0.6929314136505127\n",
      "Retrieved 10 documents (after filtering)\n",
      "Based on the provided context, Shree's most impressive research accomplishment is launching a scalable, full-stack AI analytics platform that boosted sales conversion rates by 15% (Source: Context, \"Full Stack Engineer with a track record of taking products from idea to production...\").\n"
     ]
    }
   ],
   "source": [
    "answer=rag_simple(\"what is shree's most impressive research accomplishment?\",rag_retriever,llm)\n",
    "print(answer)"
   ]
  },
  {
   "cell_type": "code",
   "execution_count": null,
   "id": "2135cf06",
   "metadata": {},
   "outputs": [],
   "source": []
  }
 ],
 "metadata": {
  "kernelspec": {
   "display_name": "Python 3",
   "language": "python",
   "name": "python3"
  },
  "language_info": {
   "codemirror_mode": {
    "name": "ipython",
    "version": 3
   },
   "file_extension": ".py",
   "mimetype": "text/x-python",
   "name": "python",
   "nbconvert_exporter": "python",
   "pygments_lexer": "ipython3",
   "version": "3.9.6"
  }
 },
 "nbformat": 4,
 "nbformat_minor": 5
}
