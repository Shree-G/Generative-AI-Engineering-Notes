{
 "cells": [
  {
   "cell_type": "code",
   "execution_count": 4,
   "id": "4a904354",
   "metadata": {},
   "outputs": [],
   "source": [
    "from langchain_core.documents import Document\n",
    "from langchain.document_loaders import PyPDFLoader, DirectoryLoader"
   ]
  },
  {
   "cell_type": "code",
   "execution_count": 6,
   "id": "113b2261",
   "metadata": {},
   "outputs": [
    {
     "data": {
      "text/plain": [
       "[Document(metadata={'producer': 'pdfTeX-1.40.26', 'creator': 'LaTeX with hyperref', 'creationdate': '2025-08-31T07:10:13+00:00', 'author': '', 'keywords': '', 'moddate': '2025-08-31T07:10:13+00:00', 'ptex.fullbanner': 'This is pdfTeX, Version 3.141592653-2.6-1.40.26 (TeX Live 2024) kpathsea version 6.4.0', 'subject': '', 'title': '', 'trapped': '/False', 'source': '../data/pdf_files/Resume.pdf', 'total_pages': 1, 'page': 0, 'page_label': '1'}, page_content='Shree Gopalakrishnan\\n858-761-2827 | shree.hridai@gmail.com | Linkedin: shree-gk | Github: Shree-G \\nFull Stack Engineer with a track record of taking products from idea to production in fast-paced environments. My\\nexperience ranges from building an award-winning IoT hardware MVP to deploying a scalable, full-stack AI analytics\\nplatform that boosted sales conversion. Currently looking to join a fast-paced startup where I can apply my full stack and\\nAI expertise to build end-to-end systems that solve complex challenges and ship features that actually help people.\\nTechnical Skills\\nLanguages & Frameworks: JavaScript (ES6+), TypeScript, Python, SQL, React.js, Next.js, FastAPI, Node.js, Prisma\\nFrontend Tools: Tailwind CSS, ShadCN, Styled Components, HTML, Framer Motion, D3\\nBackend & Data: Google BigQuery, PostgreSQL, Redis, RESTful API, ETL / ETL Processes, Docker, Websockets\\nAI/Data Science: Scikit-learn, Pandas, NumPy, K-Means Clustering, OpenAI API, Hugging Face\\nCloud & DevOps: GCP (Cloud Functions, Cloud Run), AWS (S3, Lambda), Vercel, GitHub Actions, Neon\\nOther Tools: Git, Looker Studio, Playwright, Agile Development, Full-Stack Architecture\\nExperience\\nFull Stack Engineer July 2025 – Present\\niFrog Marketing Solutions\\n• Built a scalable data pipeline to process 200,000+ dealer records from a third-party API into Google BigQuery.\\n• Designed a full stack AI dashboard to provide real-time customer segmentation and lead scoring for 67 dealerships.\\n• Launched the platform to all dealership stakeholders, resulting in a 15% increase in ad sales conversion rates.\\nSoftware Engineering Intern May 2024 – Aug 2024\\nMercury Alert AI\\n• Improved user dashboard load times by 40% for 300+ devices by optimizing patient-safety analytics functions.\\n• Architected 15+ relational schemas and refactored 10+ front end components for NoSQL to PostgreSQL migration.\\nMachine Learning Intern Jun 2024 – Oct 2024\\nServiceMob \\n• Built a weekly call volume forecaster, achieving 9% MAPE to improve staffing decisions for 500+ support agents.\\n• Deployed forecasting API inside consumer-side web app accessed real-time by 5+ call-center agencies.\\nMachine Learning Intern Jun 2022 – Aug 2022\\nPoint Perfect Technology Solutions\\n• Built a KNN-based resume classifier, that classified over 450+ resumes (and counting!) into best-fit jobs.\\n• Deployed the classifier as a REST API and integrated it with an internal HR tool to cut time-to-hire by 30%.\\nProjects\\nShrocial Media | Next.js, Node.js, App Router, TypeScript, PostgreSQL, Prisma, Tailwind CSS, ShadCN, Neon, Clerk\\n• Developed a full-stack social app using Next.js with server-side rendering and 15+ dynamic/static routes.\\n• Integrated Neon Database with PostgreSQL and Prisma ORM, creating 10+ route handlers for API responses.\\n• Designed a responsive UI with Tailwind CSS for consistent styling and dynamic layouts for 4 screen sizes.\\nRestaurant Ordering System | Full Stack Development, IoT, Real-Time Systems, MVP development\\n• Built a web-based order accuracy system using Raspberry Pi, reducing simulated errors by 35% in restaurants.\\n• Designed and fabricated a 3D-modeled wooden enclosure to house a touchscreen, battery, and Raspberry Pi.\\n• Implemented real-time tracking to process 10+ concurrent orders with <1s latency and haptic feedback.\\n• Won 2nd place among 20+ teams in UCSD’s MVP competition for technical innovation and hands-on engineering.\\nEducation\\nUniversity of California, San Diego Sep 2021 – Jun 2025\\nB.S. in Computer Science\\n• Relevant Coursework: Advanced Data Structures in Java, Design and Analysis of Algorithms, Deep Learning'),\n",
       " Document(metadata={'producer': 'pdfTeX-1.40.26', 'creator': 'TeX', 'creationdate': '2025-09-17T23:27:11+00:00', 'moddate': '2025-09-17T23:27:11+00:00', 'ptex.fullbanner': 'This is pdfTeX, Version 3.141592653-2.6-1.40.26 (TeX Live 2024) kpathsea version 6.4.0', 'trapped': '/False', 'source': '../data/pdf_files/Cover_Letter.pdf', 'total_pages': 1, 'page': 0, 'page_label': '1'}, page_content='Shree Gopalakrishnan\\n858-761-2827 — shree.hridai@gmail.com — https://github.com/Shree-G\\nSeptember 17, 2025\\nRoblox Hiring Team\\n970 Park Pl\\nSan Mateo, CA 94403\\nDear Roblox Hiring Team,\\nI was thrilled to see the Early Career Software Engineer opening. The mission to build the future of human\\ninteraction and empower a global community of creators is incredibly inspiring, and it’s a vision I would be\\nexcited to contribute to.\\nI have a strong foundation in software engineering through my projects, where I’ve used languages like Python\\nand C++ to build full-stack applications. The opportunity to work on large-scale distributed systems and\\ncollaborate with teams across design, product, and infrastructure is a perfect match for my desire to learn\\nand grow.\\nI am especially drawn to the chance to tackle unique challenges at scale. For instance, in a recent project, I\\ndeveloped a tool that involved designing the user-facing features and the back-end logic, giving me hands-on\\nexperience with the full development lifecycle you described.\\nI am a quick learner who thrives in dynamic environments, and I’m eager to be mentored by top engineers\\nwhile contributing to impactful projects. I would welcome the opportunity to discuss how I can help the\\nteam at Roblox.\\nBest regards,\\nShree Gopalakrishnan')]"
      ]
     },
     "execution_count": 6,
     "metadata": {},
     "output_type": "execute_result"
    }
   ],
   "source": [
    "dir_loader = DirectoryLoader(\"../data/pdf_files\", glob=\"*.pdf\", loader_cls=PyPDFLoader)\n",
    "documents = dir_loader.load()\n",
    "documents"
   ]
  },
  {
   "cell_type": "code",
   "execution_count": null,
   "id": "90a40e65",
   "metadata": {},
   "outputs": [],
   "source": []
  }
 ],
 "metadata": {
  "kernelspec": {
   "display_name": "Python 3",
   "language": "python",
   "name": "python3"
  },
  "language_info": {
   "codemirror_mode": {
    "name": "ipython",
    "version": 3
   },
   "file_extension": ".py",
   "mimetype": "text/x-python",
   "name": "python",
   "nbconvert_exporter": "python",
   "pygments_lexer": "ipython3",
   "version": "3.9.6"
  }
 },
 "nbformat": 4,
 "nbformat_minor": 5
}
